{
  "nbformat": 4,
  "nbformat_minor": 0,
  "metadata": {
    "colab": {
      "provenance": [],
      "collapsed_sections": [],
      "toc_visible": true,
      "authorship_tag": "ABX9TyN4ZdcKVBncyaESoCfsjDYW",
      "include_colab_link": true
    },
    "kernelspec": {
      "name": "python3",
      "display_name": "Python 3"
    },
    "language_info": {
      "name": "python"
    }
  },
  "cells": [
    {
      "cell_type": "markdown",
      "metadata": {
        "id": "view-in-github",
        "colab_type": "text"
      },
      "source": [
        "<a href=\"https://colab.research.google.com/github/WillKWL/Project-NBASeason/blob/master/3B_test_set_evaluation_player_plus_team.ipynb\" target=\"_parent\"><img src=\"https://colab.research.google.com/assets/colab-badge.svg\" alt=\"Open In Colab\"/></a>"
      ]
    },
    {
      "cell_type": "markdown",
      "source": [
        "# Import libraries"
      ],
      "metadata": {
        "id": "sbeIbD6X4QHr"
      }
    },
    {
      "cell_type": "code",
      "source": [
        "from google.colab import drive, files\n",
        "import os\n",
        "from joblib import load\n",
        "\n",
        "import pandas as pd\n",
        "import numpy as np\n",
        "pd.set_option(\"display.max_rows\", 10)\n",
        "pd.set_option(\"display.max_columns\", None)\n",
        "import matplotlib.pyplot as plt\n",
        "plt.rcParams[\"figure.figsize\"] = [20, 5]\n",
        "import re\n",
        "import copy\n",
        "from datetime import datetime\n",
        "\n",
        "from sklearn.base import BaseEstimator, TransformerMixin\n",
        "from sklearn.compose import make_column_selector, ColumnTransformer\n",
        "from sklearn.cluster import KMeans\n",
        "from sklearn.feature_selection import SelectFromModel\n",
        "from sklearn.linear_model import LogisticRegression\n",
        "from sklearn.metrics import silhouette_score, roc_auc_score, roc_curve, precision_recall_curve, PrecisionRecallDisplay, average_precision_score\n",
        "from sklearn.model_selection import cross_val_score\n",
        "from sklearn.pipeline import make_pipeline\n",
        "from sklearn.preprocessing import QuantileTransformer, MinMaxScaler"
      ],
      "metadata": {
        "id": "5Laqo3mJ_YgQ"
      },
      "execution_count": 6,
      "outputs": []
    },
    {
      "cell_type": "code",
      "execution_count": 2,
      "metadata": {
        "colab": {
          "base_uri": "https://localhost:8080/"
        },
        "id": "spNMFq2z_HI4",
        "outputId": "0bd70e1a-e996-4373-a41b-5f9c35e9b232"
      },
      "outputs": [
        {
          "output_type": "stream",
          "name": "stdout",
          "text": [
            "Mounted at /content/drive\n"
          ]
        }
      ],
      "source": [
        "drive.mount('/content/drive')\n",
        "os.chdir('/content/drive/MyDrive/Colab Notebooks')"
      ]
    },
    {
      "cell_type": "markdown",
      "source": [
        "# Load environment\n",
        "- load the following to evaluate model performance on test set:\n",
        "  - custom clases,\n",
        "  - functions, \n",
        "  - models dumped after hyperparameter tuning ,\n",
        "  - test set"
      ],
      "metadata": {
        "id": "wRpmirAb4-Y3"
      }
    },
    {
      "cell_type": "markdown",
      "source": [
        "## Custom classes and functions\n",
        "- data preparation pipeline before fitting estimator"
      ],
      "metadata": {
        "id": "ELaNNKmG4TbB"
      }
    },
    {
      "cell_type": "code",
      "source": [
        "# create a custom transformer to fix PFD by replacing it with OPP_PF\n",
        "class FixPF(BaseEstimator, TransformerMixin):\n",
        "  def __init__(self, col_drop, col_replace):\n",
        "    self.col_drop = col_drop\n",
        "    self.col_replace = col_replace\n",
        "  \n",
        "  def fit(self, X, y = None):\n",
        "    return self\n",
        "  \n",
        "  def transform(self, X):\n",
        "    output = copy.deepcopy(X)\n",
        "    output[[self.col_drop]] = output[[self.col_replace]]\n",
        "    self.output_names = output.columns\n",
        "    return output\n",
        "  \n",
        "  def get_feature_names_out(self, names = None):\n",
        "    return self.output_names\n",
        "  \n",
        "# create a custom transformer to drop columns\n",
        "class DropCols(BaseEstimator, TransformerMixin):\n",
        "  def __init__(self, cols_drop):\n",
        "    self.cols_drop = cols_drop\n",
        "  \n",
        "  def fit(self, X, y = None):\n",
        "    # print([x in X.columns for x in self.cols_drop])\n",
        "    return self\n",
        "  \n",
        "  def transform(self, X):\n",
        "    output = copy.deepcopy(X)\n",
        "    output = output.loc[:, [x not in self.cols_drop for x in output.columns]]\n",
        "    self.output_names = output.columns\n",
        "    return output\n",
        "  \n",
        "  def get_feature_names_out(self, names = None):\n",
        "    return self.output_names\n",
        "\n",
        "# create customer transformer to suppress n_quantile <= n_samples warning\n",
        "class MyQuantileTransformer(BaseEstimator, TransformerMixin):\n",
        "  def __init__(self, output_distribution, random_state):\n",
        "    self.output_distribution = output_distribution\n",
        "    self.random_state = random_state\n",
        "  \n",
        "  def fit(self, X, y = None):\n",
        "    self.QuantileTransformer = QuantileTransformer(n_quantiles=min(1000, X.shape[0]), # set this to suppress warning due to small dataset\n",
        "                                                   output_distribution = self.output_distribution,\n",
        "                                                   random_state = self.random_state).fit(X)\n",
        "    return self\n",
        "  \n",
        "  def transform(self, X):\n",
        "    output = copy.deepcopy(X)\n",
        "    output = pd.DataFrame(self.QuantileTransformer.transform(output),\n",
        "                          columns = X.columns)\n",
        "    self.output_names = X.columns\n",
        "    return output\n",
        "  \n",
        "  def get_feature_names_out(self, names = None):\n",
        "    return self.output_names\n",
        "\n",
        "\n",
        "# create customer transformer to pass as df instead of array\n",
        "class MyMinMaxScaler(BaseEstimator, TransformerMixin):\n",
        "  def __init__(self):\n",
        "    pass\n",
        "  \n",
        "  def fit(self, X, y = None):\n",
        "    self.MinMaxScaler_ = MinMaxScaler().fit(X)\n",
        "    return self\n",
        "  \n",
        "  def transform(self, X):\n",
        "    output = copy.deepcopy(X)\n",
        "    output = pd.DataFrame(self.MinMaxScaler_.transform(output),\n",
        "                          columns = X.columns)\n",
        "    self.output_names = X.columns\n",
        "    return output\n",
        "  \n",
        "  def get_feature_names_out(self, names = None):\n",
        "    return self.output_names"
      ],
      "metadata": {
        "id": "xtO8809S_nrP"
      },
      "execution_count": 3,
      "outputs": []
    },
    {
      "cell_type": "code",
      "source": [
        "# create a custom transformer to cluster nba seasons into era\n",
        "class SeasonSimilarity(BaseEstimator, TransformerMixin):\n",
        "  def __init__(self, n_clusters = 3, random_state = None, best_silh = False):\n",
        "    self.n_clusters = n_clusters\n",
        "    self.random_state = random_state\n",
        "    self.best_silh = best_silh\n",
        "  \n",
        "  def fit(self, X, y = None, sample_weight = None, plot_silh = False):\n",
        "    self.feature_names_in_ = X.columns.values\n",
        "    self.index_names = X.sort_index().index.values\n",
        "    \n",
        "    # find best k number of clusters based on silhouette score\n",
        "    if self.best_silh:\n",
        "      # test performance with silhouette score (distance from one's center and from other centers) from 2 to 10 clusters\n",
        "      # don't consider tuning k as hyperparameter because silhouette score is more intuitive\n",
        "      # e.g. clustering based on records from 1996 to 2022 (full range) vs clustering based on records from 2010 to 2022 (1st fold)\n",
        "      k_range = np.arange(2,11,1)\n",
        "      silh_scores = []\n",
        "      for k in range(2,11):\n",
        "        self.n_clusters = k\n",
        "        self.kmeans_ = KMeans(self.n_clusters, random_state=self.random_state)\n",
        "        self.kmeans_.fit(X, sample_weight=sample_weight)\n",
        "        silh_scores.append(silhouette_score(X, self.kmeans_.labels_))\n",
        "      \n",
        "      max_k = k_range[np.argmax(silh_scores)]\n",
        "      max_silh = max(silh_scores)\n",
        "      self.n_clusters = max_k    \n",
        "\n",
        "      # plot silhouette scores for 2 - 10 clusters\n",
        "      if plot_silh:\n",
        "        plt.plot(k_range, silh_scores)\n",
        "        plt.xlabel(\"Number of clusters\")\n",
        "        plt.ylabel(\"Silhouette score\")\n",
        "        plt.title(f\"optimal no. of cluster = {max_k}, silhouette score = {max_silh:0.4f}\")\n",
        "        plt.show()\n",
        "    \n",
        "    self.kmeans_ = KMeans(self.n_clusters, random_state=self.random_state)\n",
        "    self.kmeans_.fit(X, sample_weight=sample_weight)\n",
        "    return self\n",
        "  \n",
        "  def transform(self, X):\n",
        "    # Soft Clustering: each column = distance to cluster i\n",
        "    X_clusterdist = pd.DataFrame(self.kmeans_.transform(X),\n",
        "                                 columns=[f\"ERA_{i}\" for i in range(self.n_clusters)])\n",
        "    # Scaling: Quantile transform the cluster distances like other numerical columns\n",
        "    # X_clusterdist = pd.DataFrame(MyQuantileTransformer(output_distribution=\"normal\", random_state=42).fit_transform(X_clusterdist),\n",
        "    #                              columns=[f\"ERA_{i}\" for i in range(self.n_clusters)])\n",
        "    # Scaling: MinMaxScale transform the cluster distances like other numerical columns\n",
        "    X_clusterdist = pd.DataFrame(MyMinMaxScaler().fit_transform(X_clusterdist),\n",
        "                                 columns=[f\"ERA_{i}\" for i in range(self.n_clusters)])\n",
        "    # merge with numerical columns to return\n",
        "    output = pd.concat([X, X_clusterdist], axis=1)\n",
        "    self.output_features = output.columns.values\n",
        "    return output\n",
        "  \n",
        "  def get_feature_names_out(self, names = None):\n",
        "    return self.output_features"
      ],
      "metadata": {
        "id": "RThS0rodcXJh"
      },
      "execution_count": 4,
      "outputs": []
    },
    {
      "cell_type": "markdown",
      "source": [
        "## Models after hyperparameter tuning"
      ],
      "metadata": {
        "id": "EnxbtUOO4YKi"
      }
    },
    {
      "cell_type": "code",
      "source": [
        "tuned_models = {}\n",
        "time_list = []\n",
        "time_diff = []\n",
        "match_pattern = '_tuned_AP_ADASYN_playerplusteam_(\\w+).joblib'\n",
        "\n",
        "for time in [re.search(match_pattern, x).group(1) for x in os.listdir() if re.search(match_pattern, x) is not None]:\n",
        "  time_diff.append(datetime.now() - datetime.strptime(time, \"%Y%m%d_%H%M%S\"))\n",
        "  time_list.append(time)\n",
        "\n",
        "latest = time_list[np.argmin(time_diff)]\n",
        "for file in [x for x in os.listdir() if (re.search(match_pattern, x) is not None) and latest in x]:\n",
        "  model = load(file)\n",
        "  tuned_models[model.best_estimator_.steps[-1][0]] = model\n",
        "  print(model.best_estimator_.steps[-1][0], \"ADASYN AP loaded\")"
      ],
      "metadata": {
        "colab": {
          "base_uri": "https://localhost:8080/"
        },
        "id": "SuSNZuyL_em3",
        "outputId": "2b0a31bb-b2b8-4469-9d61-e42ea6837b01"
      },
      "execution_count": 98,
      "outputs": [
        {
          "output_type": "stream",
          "name": "stdout",
          "text": [
            "xgb ADASYN AP loaded\n",
            "gb ADASYN AP loaded\n",
            "forest ADASYN AP loaded\n",
            "sgd ADASYN AP loaded\n"
          ]
        }
      ]
    },
    {
      "cell_type": "code",
      "source": [
        "# pull the CV AP results from RandomizedSearchCV\n",
        "tuned_AP = []\n",
        "for clf_name, model in tuned_models.items():\n",
        "  # tuned_AP.append(cross_val_score(model.best_estimator_, season, y_test, cv = 10, scoring='average_precision'))\n",
        "  cv_AP_colindex = [i for i, x in enumerate(model.cv_results_.keys()) if re.search('split\\w+_test_score', x) is not None]\n",
        "  tuned_AP.append(pd.DataFrame(model.cv_results_).iloc[model.best_index_,cv_AP_colindex].values)"
      ],
      "metadata": {
        "id": "0K3LcKAZ_kWL"
      },
      "execution_count": 99,
      "outputs": []
    },
    {
      "cell_type": "code",
      "source": [
        "# sort the models and plot the spread of CV AP scores\n",
        "mean_tuned_AP = [np.mean(AP) for AP in tuned_AP]\n",
        "sorted_tuned_AP = [i for _, i in sorted(zip(mean_tuned_AP, tuned_AP), reverse = True)]\n",
        "sorted_tuned_clf = [i for _, i in sorted(zip(mean_tuned_AP, tuned_models.keys()), reverse = True)]"
      ],
      "metadata": {
        "id": "Glej3R5WAipy"
      },
      "execution_count": 100,
      "outputs": []
    },
    {
      "cell_type": "code",
      "source": [
        "plt.boxplot(sorted_tuned_AP, labels=sorted_tuned_clf)\n",
        "# add dots for CV AP scores\n",
        "for i, AP in enumerate(sorted_tuned_AP):\n",
        "  plt.plot([i+1]*len(AP), AP, \".\")\n",
        "  plt.annotate(f\"mean = {np.mean(AP):0.4f}\\nsd = {np.std(AP):0.4f}\",(i+1, 0.7), ha = 'center', va = 'center')\n",
        "\n",
        "plt.plot([*range(1,len(sorted_tuned_AP)+1,1)], sorted(mean_tuned_AP, reverse=True), \n",
        "         \"ks\", label = 'mean CV AP after tuning')\n",
        "plt.legend()\n",
        "plt.title(f\"Models sorted by 10-fold cross validation average precision score (after hyperparameter tuning)\")\n",
        "plt.xlabel(\"Models\")\n",
        "plt.ylim(0,1)\n",
        "plt.ylabel(\"CV Average Precision score\")\n",
        "plt.show()"
      ],
      "metadata": {
        "colab": {
          "base_uri": "https://localhost:8080/",
          "height": 350
        },
        "id": "xL7bLBVnAoo5",
        "outputId": "cf5df88a-c792-44d7-e67c-2339249b4d79"
      },
      "execution_count": 101,
      "outputs": [
        {
          "output_type": "display_data",
          "data": {
            "text/plain": [
              "<Figure size 1440x360 with 1 Axes>"
            ],
            "image/png": "[encoded data removed]"
          },
          "metadata": {
            "needs_background": "light"
          }
        }
      ]
    },
    {
      "cell_type": "markdown",
      "source": [
        "## Pick best model\n",
        "- Based on 10-fold cross validation, logistic regression gave us the highest average ROC AUC score of 0.95\n",
        "  - Applying ensemble methods (e.g. voting, stacking, bagging, boosting) on top of these tuned models didn't help boost CV performance\n",
        "- Batch gradient descent vs Stochastic gradient descent\n",
        "  - Instead of batch GD, stochastic GD speeds up training time, which can become useful as our dataset gets larger and larger with more NBA seasons recorded since 1996\n",
        "  - Log loss is a convex function so there is no benefit of jumping out of \"local minumum\" in choosing stochastic GD \n",
        "  - Inherent randomness in being stochastic suggests there is room to tune learning rate and learning schedule"
      ],
      "metadata": {
        "id": "9pCM1Txz6vLM"
      }
    },
    {
      "cell_type": "code",
      "source": [
        "best_model = tuned_models['gb'].best_estimator_"
      ],
      "metadata": {
        "id": "gQPKRV_5X6iE"
      },
      "execution_count": 102,
      "outputs": []
    },
    {
      "cell_type": "code",
      "source": [
        "best_model"
      ],
      "metadata": {
        "colab": {
          "base_uri": "https://localhost:8080/"
        },
        "id": "pd7ll5Glbntu",
        "outputId": "ca7fd9a3-3fb3-468e-f20b-b9dbf5c015a2"
      },
      "execution_count": 103,
      "outputs": [
        {
          "output_type": "execute_result",
          "data": {
            "text/plain": [
              "Pipeline(steps=[('columntransformer',\n",
              "                 ColumnTransformer(transformers=[('num',\n",
              "                                                  Pipeline(steps=[('fixpf',\n",
              "                                                                   FixPF(col_drop='PFD_P',\n",
              "                                                                         col_replace='OPP_PF_T')),\n",
              "                                                                  ('dropcols',\n",
              "                                                                   DropCols(cols_drop=['GP_P',\n",
              "                                                                                       'W_P',\n",
              "                                                                                       'L_P',\n",
              "                                                                                       'W_PCT_P',\n",
              "                                                                                       'PFD_P',\n",
              "                                                                                       'MIN_P',\n",
              "                                                                                       'FGM_P',\n",
              "                                                                                       'FG3M_P',\n",
              "                                                                                       'FTM_P',\n",
              "                                                                                       'OPP_FGM_P',\n",
              "                                                                                       'OPP_FG3M_P',\n",
              "                                                                                       'OPP_FTM_P',\n",
              "                                                                                       'TM_TOV_PCT_P',\n",
              "                                                                                       'REB_P',\n",
              "                                                                                       'REB_PCT_P',\n",
              "                                                                                       'PLUS_MINUS_P',\n",
              "                                                                                       'NET_RATING_...\n",
              "                ('selectfrommodel',\n",
              "                 SelectFromModel(estimator=LogisticRegression(C=1.1128853174905728,\n",
              "                                                              penalty='l1',\n",
              "                                                              random_state=42,\n",
              "                                                              solver='liblinear'))),\n",
              "                ('over', ADASYN(random_state=42, sampling_strategy=0.5)),\n",
              "                ('under',\n",
              "                 RandomUnderSampler(random_state=42, sampling_strategy=1)),\n",
              "                ('gb',\n",
              "                 GradientBoostingClassifier(max_depth=4,\n",
              "                                            min_samples_split=0.39620728443102127,\n",
              "                                            random_state=42))])"
            ]
          },
          "metadata": {},
          "execution_count": 103
        }
      ]
    },
    {
      "cell_type": "markdown",
      "source": [
        "## Test set"
      ],
      "metadata": {
        "id": "Cm4Bd3vN415H"
      }
    },
    {
      "cell_type": "code",
      "source": [
        "test_set = pd.read_pickle(\"https://github.com/WillKWL/PublicData/blob/main/raw/nba_pre_all_star_vs_playoff_test_comprehensive_playerplusteam.pkl?raw=true\")\n",
        "# make a copy and split X and y\n",
        "X_test = test_set.drop(columns = \"PLAYOFF_RANKING\").reset_index(drop = True).copy(deep = True)\n",
        "y_test = test_set[[\"PLAYOFF_RANKING\"]].values.reshape(-1,)"
      ],
      "metadata": {
        "id": "mrcgYfOFBPVl"
      },
      "execution_count": 104,
      "outputs": []
    },
    {
      "cell_type": "code",
      "source": [
        "X_test.shape"
      ],
      "metadata": {
        "colab": {
          "base_uri": "https://localhost:8080/"
        },
        "id": "CGNJx6E2lsbx",
        "outputId": "ccba3b23-12fa-43d4-b8be-361884c8ae64"
      },
      "execution_count": 105,
      "outputs": [
        {
          "output_type": "execute_result",
          "data": {
            "text/plain": [
              "(1423, 177)"
            ]
          },
          "metadata": {},
          "execution_count": 105
        }
      ]
    },
    {
      "cell_type": "markdown",
      "source": [
        "## Predicted Probabilities\n",
        "- right-skewed distribution due to class imbalance"
      ],
      "metadata": {
        "id": "vfzTyeAooL8w"
      }
    },
    {
      "cell_type": "code",
      "source": [
        "# prediction\n",
        "y_probs = best_model.predict_proba(X_test)[:,1]"
      ],
      "metadata": {
        "id": "vfdM7YiIq6e6"
      },
      "execution_count": 106,
      "outputs": []
    },
    {
      "cell_type": "code",
      "source": [
        "fig, ax = plt.subplots(1,1)\n",
        "ax.hist(y_probs, bins = 20)\n",
        "for rect in ax.patches:\n",
        "    height = rect.get_height()\n",
        "    ax.annotate(f\"{height:0.0f}\",\n",
        "                xy=(rect.get_x() + rect.get_width() / 2, height/2),\n",
        "                xytext=(0, 0),  # 3 points vertical offset\n",
        "                textcoords=\"offset points\",\n",
        "                color = 'white',\n",
        "                ha='center', va='center')\n",
        "plt.xlim(0,1)\n",
        "plt.xticks(np.arange(0,1.1,0.1))\n",
        "plt.xlabel(\"Predicted Probability\")\n",
        "plt.ylabel(\"Count\")\n",
        "plt.title(\"Right-skewed distribution of predicted probability due to untreated class-imbalance\")\n",
        "plt.show()"
      ],
      "metadata": {
        "colab": {
          "base_uri": "https://localhost:8080/",
          "height": 350
        },
        "id": "Zc8QAa-um9OE",
        "outputId": "4098ee7e-76ec-4988-e867-871eca116833"
      },
      "execution_count": 107,
      "outputs": [
        {
          "output_type": "display_data",
          "data": {
            "text/plain": [
              "<Figure size 1440x360 with 1 Axes>"
            ],
            "image/png": "[encoded data removed]"
          },
          "metadata": {
            "needs_background": "light"
          }
        }
      ]
    },
    {
      "cell_type": "markdown",
      "source": [
        "# Performance evaluation\n",
        "- should I use cross_val_predict here for evaluation in test set?"
      ],
      "metadata": {
        "id": "2jvrjqMi5apZ"
      }
    },
    {
      "cell_type": "markdown",
      "source": [
        "## Precision-Recall curve\n",
        "- Prefer precision-recall over ROC curve\n",
        "  - For imbalanced data, precision-recall curve provides a more accurate picture on TP, while ROC curve can be too optimistic due to TN\n",
        "- Precision > Recall\n",
        "  - As a team manager or as a fan, precision of the prediction matters more than recall\n",
        "- Limitation with a small test set (143 rows only)  \n",
        "  - Extremely bumpy precision curve\n",
        "  - Right-skewed distribution in predicted probabilities\n",
        "  - Difficult to set decision thresold\n",
        "    - Given a small test set, you can set a threshold just below the highest predicted probability to reach 100% precision\n",
        "    - But going forward, can this threshold result in a consistently high precision?\n",
        "  - Would this change if I have a larger test set to try on? or is the inherent class imbalance in the data that makes it hard to have a high precision?"
      ],
      "metadata": {
        "id": "Z7fDDlK-4kTj"
      }
    },
    {
      "cell_type": "code",
      "source": [
        "# due to class imbalance, the thresholds for high precision become really sparse -> difficult to decide a decision threshold \n",
        "# using over-sampling or SMOTE didn't help in high-dimensional data (no near neighbors in high dimension)\n",
        "\n",
        "precisions, recalls, thresholds = precision_recall_curve(y_test, y_probs)\n",
        "plt.plot(thresholds, precisions[:-1], 'b--o', label = \"Precision\", linewidth = 2)\n",
        "plt.plot(thresholds, recalls[:-1], \"g--o\", label = \"Recall\", linewidth = 2)\n",
        "plt.xlabel(\"Threshold\")\n",
        "plt.ylim(0,1)\n",
        "plt.axhline(0.8, ls='--', c='k', alpha=0.5)\n",
        "plt.title(\"Probability cutoff for 80% precision\")\n",
        "plt.legend()\n",
        "plt.show()"
      ],
      "metadata": {
        "colab": {
          "base_uri": "https://localhost:8080/",
          "height": 350
        },
        "id": "x14a7fGbhuCT",
        "outputId": "e9b77b3d-f0d2-4551-c559-4e7215152af2"
      },
      "execution_count": 108,
      "outputs": [
        {
          "output_type": "display_data",
          "data": {
            "text/plain": [
              "<Figure size 1440x360 with 1 Axes>"
            ],
            "image/png": "[encoded data removed]"
          },
          "metadata": {
            "needs_background": "light"
          }
        }
      ]
    },
    {
      "cell_type": "code",
      "source": [
        "PrecisionRecallDisplay(precision=precisions, recall=recalls).plot()\n",
        "plt.xlim(0,1)\n",
        "plt.ylim(0,1)\n",
        "plt.title(f\"Average Precision (AUPRC) = {average_precision_score(y_test, y_probs):0.4f}\")\n",
        "plt.show()"
      ],
      "metadata": {
        "id": "Ts4zC6Ip0L0z",
        "colab": {
          "base_uri": "https://localhost:8080/",
          "height": 350
        },
        "outputId": "7e63f1c9-8daa-4962-9668-710a008a46c1"
      },
      "execution_count": 109,
      "outputs": [
        {
          "output_type": "display_data",
          "data": {
            "text/plain": [
              "<Figure size 1440x360 with 1 Axes>"
            ],
            "image/png": "[encoded data removed]"
          },
          "metadata": {
            "needs_background": "light"
          }
        }
      ]
    },
    {
      "cell_type": "markdown",
      "source": [
        "## Average Precision\n",
        "- Average precision = area under precision-recall curve\n",
        "  - [sklearn documentation](https://scikit-learn.org/stable/modules/generated/sklearn.metrics.average_precision_score.html#sklearn.metrics.average_precision_score)\n",
        "- Standard deviation of AP observed in 10-fold CV on train set was noticeable\n",
        "- slightly worse performance in test set than cross validation in train set"
      ],
      "metadata": {
        "id": "uijuloxQrOVK"
      }
    },
    {
      "cell_type": "code",
      "source": [
        "CV_model = tuned_models[best_model.steps[-1][0]]\n",
        "cv_result = pd.DataFrame(CV_model.cv_results_)\n",
        "cv_AP_colindex = [i for i, x in enumerate(cv_result.columns.values) if re.search('split\\w+_test_score', x) is not None]\n",
        "best_CV_AP = pd.DataFrame(CV_model.cv_results_).iloc[CV_model.best_index_,cv_AP_colindex].values"
      ],
      "metadata": {
        "id": "ulpO0wb4rnd1"
      },
      "execution_count": 110,
      "outputs": []
    },
    {
      "cell_type": "code",
      "source": [
        "# plot CV AP scores on train set\n",
        "plt.boxplot(best_CV_AP, labels = [\"\"], vert=False)\n",
        "plt.plot(best_CV_AP, [1]*len(best_CV_AP), \".\", label='CV AP in train set')\n",
        "plt.annotate(f\"train set CV AP\\n\" + \n",
        "             f\"mean = {np.mean(best_CV_AP):0.4f}\\n\" + \n",
        "             f\"sd = {np.std(best_CV_AP):0.4f}\\n\" + \n",
        "             f\"min = {np.min(best_CV_AP):0.4f}\\n\" + \n",
        "             f\"max = {np.max(best_CV_AP):0.4f}\",\n",
        "             (np.median(best_CV_AP), 0.8), \n",
        "              ha = 'center', va = 'top')\n",
        "plt.plot(np.mean(best_CV_AP), [1], \"ks\", label = 'mean CV AP in train set')\n",
        "\n",
        "# compare with AP score on test set\n",
        "test_AP = average_precision_score(y_test, y_probs)\n",
        "plt.plot(test_AP, [1], \"rs\", label = 'AP in test set')\n",
        "plt.annotate(f\"test set AP= {test_AP:0.4f}\",(test_AP, 0.8), \n",
        "              ha = 'center', va = 'top')\n",
        "\n",
        "plt.legend()\n",
        "plt.title(f\"Model performance evaluation on test set (vs 10-fold CV on train set)\")\n",
        "plt.xlabel(\"ROC AP score\")\n",
        "# plt.xlim(0.5,1)\n",
        "plt.ylabel(\"\")\n",
        "plt.yticks([])\n",
        "plt.show()"
      ],
      "metadata": {
        "colab": {
          "base_uri": "https://localhost:8080/",
          "height": 350
        },
        "id": "h7gldoY1rQcS",
        "outputId": "a014bb4e-f999-47a7-a87c-c44ff824fd32"
      },
      "execution_count": 111,
      "outputs": [
        {
          "output_type": "display_data",
          "data": {
            "text/plain": [
              "<Figure size 1440x360 with 1 Axes>"
            ],
            "image/png": "[encoded data removed]"
          },
          "metadata": {
            "needs_background": "light"
          }
        }
      ]
    },
    {
      "cell_type": "markdown",
      "source": [
        "## Lift and gain chart\n",
        "- focusing on first 2 deciles (top 20%)\n",
        "- gain chart: our model identifies 80% of the NBA champions\n",
        "- lift chart: our model achieves 4x lift vs a random guess"
      ],
      "metadata": {
        "id": "-dEsBlxN4lfq"
      }
    },
    {
      "cell_type": "code",
      "source": [
        "temp_df = pd.DataFrame({\n",
        "    'y': y_test,\n",
        "    'prob': y_probs\n",
        "})\n",
        "temp_df.sort_values('prob', ascending=False, inplace=True)\n",
        "temp_df['decile'] = pd.qcut(temp_df['prob'],10,labels=[i for i in np.arange(10,0,-1)])"
      ],
      "metadata": {
        "id": "dpaO3U9fEMJ2"
      },
      "execution_count": 112,
      "outputs": []
    },
    {
      "cell_type": "code",
      "source": [
        "lift_n_gain = temp_df.groupby('decile').agg({'y': ['sum']}).sort_index(ascending=False)\n",
        "lift_n_gain.columns = ['sum_of_positive_cases_identified']\n",
        "lift_n_gain['gain'] = lift_n_gain[['sum_of_positive_cases_identified']].apply(lambda x: x.cumsum() / x.sum())\n",
        "lift_n_gain['lift'] = lift_n_gain['gain'] / (lift_n_gain.index.values.astype(int) / 10)"
      ],
      "metadata": {
        "id": "RHtp38L2E2sA"
      },
      "execution_count": 113,
      "outputs": []
    },
    {
      "cell_type": "code",
      "source": [
        "lift_n_gain"
      ],
      "metadata": {
        "colab": {
          "base_uri": "https://localhost:8080/",
          "height": 394
        },
        "id": "lh-5iAbYNHHX",
        "outputId": "612b7a5d-3561-4e26-b29e-7973c3596668"
      },
      "execution_count": 114,
      "outputs": [
        {
          "output_type": "execute_result",
          "data": {
            "text/plain": [
              "        sum_of_positive_cases_identified      gain      lift\n",
              "decile                                                      \n",
              "1                                     14  0.259259  2.592593\n",
              "2                                     20  0.629630  3.148148\n",
              "3                                     20  1.000000  3.333333\n",
              "4                                      0  1.000000  2.500000\n",
              "5                                      0  1.000000  2.000000\n",
              "6                                      0  1.000000  1.666667\n",
              "7                                      0  1.000000  1.428571\n",
              "8                                      0  1.000000  1.250000\n",
              "9                                      0  1.000000  1.111111\n",
              "10                                     0  1.000000  1.000000"
            ],
            "text/html": [
              "\n",
              "  <div id=\"df-39b3ae32-e939-45f9-9eeb-7a13e114fd1a\">\n",
              "    <div class=\"colab-df-container\">\n",
              "      <div>\n",
              "<style scoped>\n",
              "    .dataframe tbody tr th:only-of-type {\n",
              "        vertical-align: middle;\n",
              "    }\n",
              "\n",
              "    .dataframe tbody tr th {\n",
              "        vertical-align: top;\n",
              "    }\n",
              "\n",
              "    .dataframe thead th {\n",
              "        text-align: right;\n",
              "    }\n",
              "</style>\n",
              "<table border=\"1\" class=\"dataframe\">\n",
              "  <thead>\n",
              "    <tr style=\"text-align: right;\">\n",
              "      <th></th>\n",
              "      <th>sum_of_positive_cases_identified</th>\n",
              "      <th>gain</th>\n",
              "      <th>lift</th>\n",
              "    </tr>\n",
              "    <tr>\n",
              "      <th>decile</th>\n",
              "      <th></th>\n",
              "      <th></th>\n",
              "      <th></th>\n",
              "    </tr>\n",
              "  </thead>\n",
              "  <tbody>\n",
              "    <tr>\n",
              "      <th>1</th>\n",
              "      <td>14</td>\n",
              "      <td>0.259259</td>\n",
              "      <td>2.592593</td>\n",
              "    </tr>\n",
              "    <tr>\n",
              "      <th>2</th>\n",
              "      <td>20</td>\n",
              "      <td>0.629630</td>\n",
              "      <td>3.148148</td>\n",
              "    </tr>\n",
              "    <tr>\n",
              "      <th>3</th>\n",
              "      <td>20</td>\n",
              "      <td>1.000000</td>\n",
              "      <td>3.333333</td>\n",
              "    </tr>\n",
              "    <tr>\n",
              "      <th>4</th>\n",
              "      <td>0</td>\n",
              "      <td>1.000000</td>\n",
              "      <td>2.500000</td>\n",
              "    </tr>\n",
              "    <tr>\n",
              "      <th>5</th>\n",
              "      <td>0</td>\n",
              "      <td>1.000000</td>\n",
              "      <td>2.000000</td>\n",
              "    </tr>\n",
              "    <tr>\n",
              "      <th>6</th>\n",
              "      <td>0</td>\n",
              "      <td>1.000000</td>\n",
              "      <td>1.666667</td>\n",
              "    </tr>\n",
              "    <tr>\n",
              "      <th>7</th>\n",
              "      <td>0</td>\n",
              "      <td>1.000000</td>\n",
              "      <td>1.428571</td>\n",
              "    </tr>\n",
              "    <tr>\n",
              "      <th>8</th>\n",
              "      <td>0</td>\n",
              "      <td>1.000000</td>\n",
              "      <td>1.250000</td>\n",
              "    </tr>\n",
              "    <tr>\n",
              "      <th>9</th>\n",
              "      <td>0</td>\n",
              "      <td>1.000000</td>\n",
              "      <td>1.111111</td>\n",
              "    </tr>\n",
              "    <tr>\n",
              "      <th>10</th>\n",
              "      <td>0</td>\n",
              "      <td>1.000000</td>\n",
              "      <td>1.000000</td>\n",
              "    </tr>\n",
              "  </tbody>\n",
              "</table>\n",
              "</div>\n",
              "      <button class=\"colab-df-convert\" onclick=\"convertToInteractive('df-39b3ae32-e939-45f9-9eeb-7a13e114fd1a')\"\n",
              "              title=\"Convert this dataframe to an interactive table.\"\n",
              "              style=\"display:none;\">\n",
              "        \n",
              "  <svg xmlns=\"http://www.w3.org/2000/svg\" height=\"24px\"viewBox=\"0 0 24 24\"\n",
              "       width=\"24px\">\n",
              "    <path d=\"M0 0h24v24H0V0z\" fill=\"none\"/>\n",
              "    <path d=\"M18.56 5.44l.94 2.06.94-2.06 2.06-.94-2.06-.94-.94-2.06-.94 2.06-2.06.94zm-11 1L8.5 8.5l.94-2.06 2.06-.94-2.06-.94L8.5 2.5l-.94 2.06-2.06.94zm10 10l.94 2.06.94-2.06 2.06-.94-2.06-.94-.94-2.06-.94 2.06-2.06.94z\"/><path d=\"M17.41 7.96l-1.37-1.37c-.4-.4-.92-.59-1.43-.59-.52 0-1.04.2-1.43.59L10.3 9.45l-7.72 7.72c-.78.78-.78 2.05 0 2.83L4 21.41c.39.39.9.59 1.41.59.51 0 1.02-.2 1.41-.59l7.78-7.78 2.81-2.81c.8-.78.8-2.07 0-2.86zM5.41 20L4 18.59l7.72-7.72 1.47 1.35L5.41 20z\"/>\n",
              "  </svg>\n",
              "      </button>\n",
              "      \n",
              "  <style>\n",
              "    .colab-df-container {\n",
              "      display:flex;\n",
              "      flex-wrap:wrap;\n",
              "      gap: 12px;\n",
              "    }\n",
              "\n",
              "    .colab-df-convert {\n",
              "      background-color: #E8F0FE;\n",
              "      border: none;\n",
              "      border-radius: 50%;\n",
              "      cursor: pointer;\n",
              "      display: none;\n",
              "      fill: #1967D2;\n",
              "      height: 32px;\n",
              "      padding: 0 0 0 0;\n",
              "      width: 32px;\n",
              "    }\n",
              "\n",
              "    .colab-df-convert:hover {\n",
              "      background-color: #E2EBFA;\n",
              "      box-shadow: 0px 1px 2px rgba(60, 64, 67, 0.3), 0px 1px 3px 1px rgba(60, 64, 67, 0.15);\n",
              "      fill: #174EA6;\n",
              "    }\n",
              "\n",
              "    [theme=dark] .colab-df-convert {\n",
              "      background-color: #3B4455;\n",
              "      fill: #D2E3FC;\n",
              "    }\n",
              "\n",
              "    [theme=dark] .colab-df-convert:hover {\n",
              "      background-color: #434B5C;\n",
              "      box-shadow: 0px 1px 3px 1px rgba(0, 0, 0, 0.15);\n",
              "      filter: drop-shadow(0px 1px 2px rgba(0, 0, 0, 0.3));\n",
              "      fill: #FFFFFF;\n",
              "    }\n",
              "  </style>\n",
              "\n",
              "      <script>\n",
              "        const buttonEl =\n",
              "          document.querySelector('#df-39b3ae32-e939-45f9-9eeb-7a13e114fd1a button.colab-df-convert');\n",
              "        buttonEl.style.display =\n",
              "          google.colab.kernel.accessAllowed ? 'block' : 'none';\n",
              "\n",
              "        async function convertToInteractive(key) {\n",
              "          const element = document.querySelector('#df-39b3ae32-e939-45f9-9eeb-7a13e114fd1a');\n",
              "          const dataTable =\n",
              "            await google.colab.kernel.invokeFunction('convertToInteractive',\n",
              "                                                     [key], {});\n",
              "          if (!dataTable) return;\n",
              "\n",
              "          const docLinkHtml = 'Like what you see? Visit the ' +\n",
              "            '<a target=\"_blank\" href=https://colab.research.google.com/notebooks/data_table.ipynb>data table notebook</a>'\n",
              "            + ' to learn more about interactive tables.';\n",
              "          element.innerHTML = '';\n",
              "          dataTable['output_type'] = 'display_data';\n",
              "          await google.colab.output.renderOutput(dataTable, element);\n",
              "          const docLink = document.createElement('div');\n",
              "          docLink.innerHTML = docLinkHtml;\n",
              "          element.appendChild(docLink);\n",
              "        }\n",
              "      </script>\n",
              "    </div>\n",
              "  </div>\n",
              "  "
            ]
          },
          "metadata": {},
          "execution_count": 114
        }
      ]
    },
    {
      "cell_type": "code",
      "source": [
        "fig, axes = plt.subplots(1,2)\n",
        "axes[0].plot(np.arange(1,11,1), lift_n_gain['gain'].values, 'bo-')\n",
        "axes[1].plot(np.arange(1,11,1), lift_n_gain['lift'].values, 'bo-')\n",
        "axes[0].set_title('Gain chart')\n",
        "axes[1].set_title('Lift chart')\n",
        "for ax in axes:\n",
        "  ax.set_xticks(np.arange(1,11,1))\n",
        "  ax.set_xlabel(\"Decile\")\n",
        "plt.show()"
      ],
      "metadata": {
        "colab": {
          "base_uri": "https://localhost:8080/",
          "height": 350
        },
        "id": "_yHyMZz6JDp4",
        "outputId": "b5519938-c43a-46c3-ad21-026012cee7c8"
      },
      "execution_count": 115,
      "outputs": [
        {
          "output_type": "display_data",
          "data": {
            "text/plain": [
              "<Figure size 1440x360 with 2 Axes>"
            ],
            "image/png": "[encoded data removed]"
          },
          "metadata": {
            "needs_background": "light"
          }
        }
      ]
    },
    {
      "cell_type": "markdown",
      "source": [
        "## Coefficients\n",
        "- Before any manipulation, the data set contains 52 features\n",
        "- After feature selection and other data cleaning procedures, there are 34 features remaining\n",
        "- Finally, after fitting logistic regression with regularization, we can see that\n",
        "  - significant variables: \n",
        "    - PLUS_MINUS (the average number of points a team has scored in excess of the number of points lost to the opponent in a game within the regular season)\n",
        "    - W / L / W_PCT (the number (or %) of games a team has won/lost in the regular season)\n",
        "      - surprisingly, applying elasticnet (L1 + L2 regularization) didn't help to eliminate the significance of these correlated variables\n",
        "    - FG_PCT / FGM (field goal % and made)\n",
        "  - interesting variables:\n",
        "    - BLKA (blocks attempted) has a negative coefficient in predicting probability of winning a championship\n",
        "      - perhaps attempting to block your opponent too frequently doesn't mean you are playing good defence \n",
        "    - \n",
        "- Overall, we can say that if a team performs well in the regular season, it is reasonable to assume that it can win the championship"
      ],
      "metadata": {
        "id": "9QA4pyPXrIs0"
      }
    },
    {
      "cell_type": "code",
      "source": [
        "# original features\n",
        "features_in = X_test.columns.values # cannot use features_in here since data_cleaning pipeline is wrapped in SeasonSimilarity instead of part of data_preparation pipeline\n",
        "print(f\"Number of original features: \\n{len(X_test.columns.values)}\")\n",
        "print(features_in, \"\\n\")\n",
        "\n",
        "# sparse features after feature selection with L1 penalty in data_preparation pipeline\n",
        "features_out = best_model[:-1].get_feature_names_out() \n",
        "print(f\"Number of features after feature engineering, scaling and selection: \\n{len(features_out)}\")\n",
        "print(features_out, \"\\n\")\n",
        "\n",
        "# non-zero (signficant) features after regularization in fitting estimator\n",
        "try:\n",
        "  coef = best_model.steps[-1][1].feature_importances_\n",
        "except:\n",
        "  coef = best_model.steps[-1][1].coef_[0]\n",
        "print(f\"Number of features after fitting estimator with regularization: \\n{np.count_nonzero(coef)}\")\n",
        "features_non_zero = [features_out[loc] for loc in np.nonzero(coef)[0]]\n",
        "coef_non_zero = [np.around(coef[loc], decimals=4) for loc in np.nonzero(coef)[0]]\n",
        "print(f\"features = {[feature_ for _, feature_ in sorted(zip(np.abs(coef_non_zero), features_non_zero), reverse=True)]}\")\n",
        "print(f\"coefficient = {[coef_ for _, coef_ in sorted(zip(np.abs(coef_non_zero), coef_non_zero), reverse=True)]}\")\n",
        "\n",
        "abs_coef = np.abs(coef)\n",
        "fig, ax = plt.subplots(1,1)\n",
        "top_n = 10\n",
        "for i, (_, coef, name) in enumerate(sorted(zip(abs_coef, coef, features_out), reverse=True)[:top_n]):\n",
        "  ax.bar(name, coef)\n",
        "for rect in ax.patches:\n",
        "    height = rect.get_height()\n",
        "    ax.annotate(f\"{height:0.4f}\",\n",
        "                xy=(rect.get_x() + rect.get_width() / 2, height/2),\n",
        "                xytext=(0, 0),  # 3 points vertical offset\n",
        "                textcoords=\"offset points\",\n",
        "                color = 'white',\n",
        "                ha='center', va='center')\n",
        "plt.title(f\"Top {top_n} features to win an NBA championship\")\n",
        "plt.ylabel(\"Coefficients\")\n",
        "plt.show()"
      ],
      "metadata": {
        "colab": {
          "base_uri": "https://localhost:8080/",
          "height": 1000
        },
        "id": "T8KI2Y4irOQM",
        "outputId": "5d45a962-1b21-4625-bbc4-64fa74d60741"
      },
      "execution_count": 116,
      "outputs": [
        {
          "output_type": "stream",
          "name": "stdout",
          "text": [
            "Number of original features: \n",
            "177\n",
            "['PLAYER_ID_P' 'PLAYER_NAME_P' 'NICKNAME_P' 'TEAM_ABBREVIATION_P' 'AGE_P'\n",
            " 'GP_P' 'W_P' 'L_P' 'W_PCT_P' 'MIN_P' 'FGM_P' 'FGA_P' 'FG_PCT_P' 'FG3M_P'\n",
            " 'FG3A_P' 'FG3_PCT_P' 'FTM_P' 'FTA_P' 'FT_PCT_P' 'OREB_P' 'DREB_P' 'REB_P'\n",
            " 'AST_P' 'TOV_P' 'STL_P' 'BLK_P' 'BLKA_P' 'PF_P' 'PFD_P' 'PTS_P'\n",
            " 'PLUS_MINUS_P' 'DD2_P' 'TD3_P' 'CFID_P' 'CFPARAMS_P' 'AST_PCT_P'\n",
            " 'AST_RATIO_P' 'AST_TO_P' 'DEF_RATING_P' 'DREB_PCT_P' 'EFG_PCT_P'\n",
            " 'FGA_PG_P' 'FGM_PG_P' 'NET_RATING_P' 'OFF_RATING_P' 'OREB_PCT_P' 'PACE_P'\n",
            " 'PACE_PER40_P' 'PIE_P' 'POSS_P' 'REB_PCT_P' 'TM_TOV_PCT_P' 'TS_PCT_P'\n",
            " 'USG_PCT_P' 'OPP_PTS_2ND_CHANCE_P' 'OPP_PTS_FB_P' 'OPP_PTS_OFF_TOV_P'\n",
            " 'OPP_PTS_PAINT_P' 'PTS_2ND_CHANCE_P' 'PTS_FB_P' 'PTS_OFF_TOV_P'\n",
            " 'PTS_PAINT_P' 'PCT_AST_2PM_P' 'PCT_AST_3PM_P' 'PCT_AST_FGM_P'\n",
            " 'PCT_FGA_2PT_P' 'PCT_FGA_3PT_P' 'PCT_PTS_2PT_P' 'PCT_PTS_2PT_MR_P'\n",
            " 'PCT_PTS_3PT_P' 'PCT_PTS_FB_P' 'PCT_PTS_FT_P' 'PCT_PTS_OFF_TOV_P'\n",
            " 'PCT_PTS_PAINT_P' 'PCT_UAST_2PM_P' 'PCT_UAST_3PM_P' 'PCT_UAST_FGM_P'\n",
            " 'PCT_BLK_P' 'PCT_DREB_P' 'PCT_STL_P' 'TEAM_ID_T' 'TEAM_NAME_T' 'GP_T'\n",
            " 'W_T' 'L_T' 'W_PCT_T' 'MIN_T' 'FGM_T' 'FGA_T' 'FG_PCT_T' 'FG3M_T'\n",
            " 'FG3A_T' 'FG3_PCT_T' 'FTM_T' 'FTA_T' 'FT_PCT_T' 'OREB_T' 'DREB_T' 'REB_T'\n",
            " 'AST_T' 'TOV_T' 'STL_T' 'BLK_T' 'BLKA_T' 'PF_T' 'PFD_T' 'PTS_T'\n",
            " 'PLUS_MINUS_T' 'CFID_T' 'CFPARAMS_T' 'AST_PCT_T' 'AST_RATIO_T' 'AST_TO_T'\n",
            " 'DEF_RATING_T' 'DREB_PCT_T' 'EFG_PCT_T' 'NET_RATING_T' 'OFF_RATING_T'\n",
            " 'OREB_PCT_T' 'PACE_T' 'PACE_PER40_T' 'PIE_T' 'POSS_T' 'REB_PCT_T'\n",
            " 'TM_TOV_PCT_T' 'TS_PCT_T' 'OPP_PTS_2ND_CHANCE_T' 'OPP_PTS_FB_T'\n",
            " 'OPP_PTS_OFF_TOV_T' 'OPP_PTS_PAINT_T' 'PTS_2ND_CHANCE_T' 'PTS_FB_T'\n",
            " 'PTS_OFF_TOV_T' 'PTS_PAINT_T' 'FTA_RATE_T' 'OPP_EFG_PCT_T'\n",
            " 'OPP_FTA_RATE_T' 'OPP_OREB_PCT_T' 'OPP_TOV_PCT_T' 'PCT_AST_2PM_T'\n",
            " 'PCT_AST_3PM_T' 'PCT_AST_FGM_T' 'PCT_FGA_2PT_T' 'PCT_FGA_3PT_T'\n",
            " 'PCT_PTS_2PT_T' 'PCT_PTS_2PT_MR_T' 'PCT_PTS_3PT_T' 'PCT_PTS_FB_T'\n",
            " 'PCT_PTS_FT_T' 'PCT_PTS_OFF_TOV_T' 'PCT_PTS_PAINT_T' 'PCT_UAST_2PM_T'\n",
            " 'PCT_UAST_3PM_T' 'PCT_UAST_FGM_T' 'OPP_AST_T' 'OPP_BLK_T' 'OPP_BLKA_T'\n",
            " 'OPP_DREB_T' 'OPP_FG3A_T' 'OPP_FG3M_T' 'OPP_FG3_PCT_T' 'OPP_FGA_T'\n",
            " 'OPP_FGM_T' 'OPP_FG_PCT_T' 'OPP_FTA_T' 'OPP_FTM_T' 'OPP_FT_PCT_T'\n",
            " 'OPP_OREB_T' 'OPP_PF_T' 'OPP_PFD_T' 'OPP_PTS_T' 'OPP_REB_T' 'OPP_STL_T'\n",
            " 'OPP_TOV_T' 'TEAM_ID' 'SEASON' 'UNIQUE_ID'] \n",
            "\n",
            "Number of features after feature engineering, scaling and selection: \n",
            "44\n",
            "['AGE_P' 'TOV_P' 'PF_P' 'DD2_P' 'DEF_RATING_P' 'OFF_RATING_P'\n",
            " 'OPP_PTS_2ND_CHANCE_P' 'PTS_PAINT_P' 'PCT_AST_2PM_P' 'PCT_AST_3PM_P'\n",
            " 'PCT_PTS_2PT_MR_P' 'PCT_PTS_3PT_P' 'PCT_PTS_OFF_TOV_P' 'PCT_UAST_2PM_P'\n",
            " 'FG_PCT_T' 'FG3A_T' 'FG3_PCT_T' 'FT_PCT_T' 'DREB_T' 'BLKA_T' 'PTS_T'\n",
            " 'DEF_RATING_T' 'EFG_PCT_T' 'OFF_RATING_T' 'PACE_T' 'OPP_PTS_2ND_CHANCE_T'\n",
            " 'OPP_PTS_FB_T' 'PTS_2ND_CHANCE_T' 'PTS_OFF_TOV_T' 'PTS_PAINT_T'\n",
            " 'OPP_TOV_PCT_T' 'PCT_AST_3PM_T' 'PCT_PTS_FB_T' 'PCT_PTS_FT_T'\n",
            " 'PCT_UAST_3PM_T' 'OPP_AST_T' 'OPP_BLK_T' 'OPP_DREB_T' 'OPP_FG_PCT_T'\n",
            " 'OPP_FTA_T' 'OPP_FT_PCT_T' 'OPP_REB_T' 'OPP_TOV_T' 'ERA_0'] \n",
            "\n",
            "Number of features after fitting estimator with regularization: \n",
            "32\n",
            "features = ['OPP_FG_PCT_T', 'OFF_RATING_T', 'PTS_T', 'DEF_RATING_T', 'OPP_AST_T', 'PCT_PTS_FT_T', 'OPP_DREB_T', 'PCT_PTS_FB_T', 'PTS_OFF_TOV_T', 'FT_PCT_T', 'DREB_T', 'FG_PCT_T', 'PTS_PAINT_T', 'OPP_PTS_FB_T', 'OPP_FTA_T', 'PTS_2ND_CHANCE_T', 'OPP_PTS_2ND_CHANCE_T', 'OPP_TOV_T', 'FG3_PCT_T', 'BLKA_T', 'OPP_BLK_T', 'PCT_AST_3PM_T', 'PACE_T', 'OPP_REB_T', 'DD2_P', 'PTS_PAINT_P', 'PCT_AST_3PM_P', 'OPP_FT_PCT_T', 'EFG_PCT_T', 'PCT_AST_2PM_P', 'FG3A_T', 'AGE_P']\n",
            "coefficient = [0.2723, 0.216, 0.1675, 0.0619, 0.0497, 0.0479, 0.0294, 0.0293, 0.0213, 0.0208, 0.0192, 0.0188, 0.0113, 0.0081, 0.0069, 0.0034, 0.0033, 0.0031, 0.0023, 0.0023, 0.0016, 0.0014, 0.0009, 0.0007, 0.0002, 0.0001, 0.0001, 0.0001, 0.0001, 0.0, 0.0, 0.0]\n"
          ]
        },
        {
          "output_type": "display_data",
          "data": {
            "text/plain": [
              "<Figure size 1440x360 with 1 Axes>"
            ],
            "image/png": "[encoded data removed]"
          },
          "metadata": {
            "needs_background": "light"
          }
        }
      ]
    },
    {
      "cell_type": "markdown",
      "source": [
        "## Confusion matrix"
      ],
      "metadata": {
        "id": "ENWkwJvq4jLE"
      }
    },
    {
      "cell_type": "code",
      "source": [
        "from sklearn.metrics import precision_score, recall_score, confusion_matrix, classification_report"
      ],
      "metadata": {
        "id": "2cH76rz-hMX-"
      },
      "execution_count": 117,
      "outputs": []
    },
    {
      "cell_type": "code",
      "source": [
        "# to achieve a precision of 80% or more\n",
        "precision_pct = 0.8"
      ],
      "metadata": {
        "id": "AWLiZNAyhLec"
      },
      "execution_count": 118,
      "outputs": []
    },
    {
      "cell_type": "code",
      "source": [
        "# due to class imbalance in a small test set, \n",
        "# the threshold intervals are so sparse that it becomes hard to achieve exactly 80%\n",
        "idx_for_chosen_precision = (precisions >= precision_pct).argmax()\n",
        "chosen_threshold = thresholds[idx_for_chosen_precision]\n",
        "y_predict = (best_model.predict_proba(X_test)[:,1] >= chosen_threshold)\n",
        "print(classification_report(y_test, y_predict))"
      ],
      "metadata": {
        "colab": {
          "base_uri": "https://localhost:8080/",
          "height": 245
        },
        "id": "-SJL2bAGf6m2",
        "outputId": "f664d830-bb88-46bc-81ba-29a7d39d5600"
      },
      "execution_count": 119,
      "outputs": [
        {
          "output_type": "error",
          "ename": "IndexError",
          "evalue": "ignored",
          "traceback": [
            "\u001b[0;31m---------------------------------------------------------------------------\u001b[0m",
            "\u001b[0;31mIndexError\u001b[0m                                Traceback (most recent call last)",
            "\u001b[0;32m<ipython-input-119-34b8b58b4b2a>\u001b[0m in \u001b[0;36m<module>\u001b[0;34m\u001b[0m\n\u001b[1;32m      2\u001b[0m \u001b[0;31m# the threshold intervals are so sparse that it becomes hard to achieve exactly 80%\u001b[0m\u001b[0;34m\u001b[0m\u001b[0;34m\u001b[0m\u001b[0;34m\u001b[0m\u001b[0m\n\u001b[1;32m      3\u001b[0m \u001b[0midx_for_chosen_precision\u001b[0m \u001b[0;34m=\u001b[0m \u001b[0;34m(\u001b[0m\u001b[0mprecisions\u001b[0m \u001b[0;34m>=\u001b[0m \u001b[0mprecision_pct\u001b[0m\u001b[0;34m)\u001b[0m\u001b[0;34m.\u001b[0m\u001b[0margmax\u001b[0m\u001b[0;34m(\u001b[0m\u001b[0;34m)\u001b[0m\u001b[0;34m\u001b[0m\u001b[0;34m\u001b[0m\u001b[0m\n\u001b[0;32m----> 4\u001b[0;31m \u001b[0mchosen_threshold\u001b[0m \u001b[0;34m=\u001b[0m \u001b[0mthresholds\u001b[0m\u001b[0;34m[\u001b[0m\u001b[0midx_for_chosen_precision\u001b[0m\u001b[0;34m]\u001b[0m\u001b[0;34m\u001b[0m\u001b[0;34m\u001b[0m\u001b[0m\n\u001b[0m\u001b[1;32m      5\u001b[0m \u001b[0my_predict\u001b[0m \u001b[0;34m=\u001b[0m \u001b[0;34m(\u001b[0m\u001b[0mbest_model\u001b[0m\u001b[0;34m.\u001b[0m\u001b[0mpredict_proba\u001b[0m\u001b[0;34m(\u001b[0m\u001b[0mX_test\u001b[0m\u001b[0;34m)\u001b[0m\u001b[0;34m[\u001b[0m\u001b[0;34m:\u001b[0m\u001b[0;34m,\u001b[0m\u001b[0;36m1\u001b[0m\u001b[0;34m]\u001b[0m \u001b[0;34m>=\u001b[0m \u001b[0mchosen_threshold\u001b[0m\u001b[0;34m)\u001b[0m\u001b[0;34m\u001b[0m\u001b[0;34m\u001b[0m\u001b[0m\n\u001b[1;32m      6\u001b[0m \u001b[0mprint\u001b[0m\u001b[0;34m(\u001b[0m\u001b[0mclassification_report\u001b[0m\u001b[0;34m(\u001b[0m\u001b[0my_test\u001b[0m\u001b[0;34m,\u001b[0m \u001b[0my_predict\u001b[0m\u001b[0;34m)\u001b[0m\u001b[0;34m)\u001b[0m\u001b[0;34m\u001b[0m\u001b[0;34m\u001b[0m\u001b[0m\n",
            "\u001b[0;31mIndexError\u001b[0m: index 192 is out of bounds for axis 0 with size 192"
          ]
        }
      ]
    },
    {
      "cell_type": "code",
      "source": [
        "# only 1 instance was predicted and correctly identified as positive (winning a championship)\n",
        "confusion_matrix(y_test, y_predict)"
      ],
      "metadata": {
        "colab": {
          "base_uri": "https://localhost:8080/",
          "height": 342
        },
        "id": "wq0LsTsYsUNW",
        "outputId": "a06aedbf-dbfb-4a9d-eada-ef0be6c7d990"
      },
      "execution_count": 120,
      "outputs": [
        {
          "output_type": "error",
          "ename": "ValueError",
          "evalue": "ignored",
          "traceback": [
            "\u001b[0;31m---------------------------------------------------------------------------\u001b[0m",
            "\u001b[0;31mValueError\u001b[0m                                Traceback (most recent call last)",
            "\u001b[0;32m<ipython-input-120-e14d8341def9>\u001b[0m in \u001b[0;36m<module>\u001b[0;34m\u001b[0m\n\u001b[1;32m      1\u001b[0m \u001b[0;31m# only 1 instance was predicted and correctly identified as positive (winning a championship)\u001b[0m\u001b[0;34m\u001b[0m\u001b[0;34m\u001b[0m\u001b[0;34m\u001b[0m\u001b[0m\n\u001b[0;32m----> 2\u001b[0;31m \u001b[0mconfusion_matrix\u001b[0m\u001b[0;34m(\u001b[0m\u001b[0my_test\u001b[0m\u001b[0;34m,\u001b[0m \u001b[0my_predict\u001b[0m\u001b[0;34m)\u001b[0m\u001b[0;34m\u001b[0m\u001b[0;34m\u001b[0m\u001b[0m\n\u001b[0m",
            "\u001b[0;32m/usr/local/lib/python3.7/dist-packages/sklearn/metrics/_classification.py\u001b[0m in \u001b[0;36mconfusion_matrix\u001b[0;34m(y_true, y_pred, labels, sample_weight, normalize)\u001b[0m\n\u001b[1;32m    305\u001b[0m     \u001b[0;34m(\u001b[0m\u001b[0;36m0\u001b[0m\u001b[0;34m,\u001b[0m \u001b[0;36m2\u001b[0m\u001b[0;34m,\u001b[0m \u001b[0;36m1\u001b[0m\u001b[0;34m,\u001b[0m \u001b[0;36m1\u001b[0m\u001b[0;34m)\u001b[0m\u001b[0;34m\u001b[0m\u001b[0;34m\u001b[0m\u001b[0m\n\u001b[1;32m    306\u001b[0m     \"\"\"\n\u001b[0;32m--> 307\u001b[0;31m     \u001b[0my_type\u001b[0m\u001b[0;34m,\u001b[0m \u001b[0my_true\u001b[0m\u001b[0;34m,\u001b[0m \u001b[0my_pred\u001b[0m \u001b[0;34m=\u001b[0m \u001b[0m_check_targets\u001b[0m\u001b[0;34m(\u001b[0m\u001b[0my_true\u001b[0m\u001b[0;34m,\u001b[0m \u001b[0my_pred\u001b[0m\u001b[0;34m)\u001b[0m\u001b[0;34m\u001b[0m\u001b[0;34m\u001b[0m\u001b[0m\n\u001b[0m\u001b[1;32m    308\u001b[0m     \u001b[0;32mif\u001b[0m \u001b[0my_type\u001b[0m \u001b[0;32mnot\u001b[0m \u001b[0;32min\u001b[0m \u001b[0;34m(\u001b[0m\u001b[0;34m\"binary\"\u001b[0m\u001b[0;34m,\u001b[0m \u001b[0;34m\"multiclass\"\u001b[0m\u001b[0;34m)\u001b[0m\u001b[0;34m:\u001b[0m\u001b[0;34m\u001b[0m\u001b[0;34m\u001b[0m\u001b[0m\n\u001b[1;32m    309\u001b[0m         \u001b[0;32mraise\u001b[0m \u001b[0mValueError\u001b[0m\u001b[0;34m(\u001b[0m\u001b[0;34m\"%s is not supported\"\u001b[0m \u001b[0;34m%\u001b[0m \u001b[0my_type\u001b[0m\u001b[0;34m)\u001b[0m\u001b[0;34m\u001b[0m\u001b[0;34m\u001b[0m\u001b[0m\n",
            "\u001b[0;32m/usr/local/lib/python3.7/dist-packages/sklearn/metrics/_classification.py\u001b[0m in \u001b[0;36m_check_targets\u001b[0;34m(y_true, y_pred)\u001b[0m\n\u001b[1;32m     82\u001b[0m     \u001b[0my_pred\u001b[0m \u001b[0;34m:\u001b[0m \u001b[0marray\u001b[0m \u001b[0;32mor\u001b[0m \u001b[0mindicator\u001b[0m \u001b[0mmatrix\u001b[0m\u001b[0;34m\u001b[0m\u001b[0;34m\u001b[0m\u001b[0m\n\u001b[1;32m     83\u001b[0m     \"\"\"\n\u001b[0;32m---> 84\u001b[0;31m     \u001b[0mcheck_consistent_length\u001b[0m\u001b[0;34m(\u001b[0m\u001b[0my_true\u001b[0m\u001b[0;34m,\u001b[0m \u001b[0my_pred\u001b[0m\u001b[0;34m)\u001b[0m\u001b[0;34m\u001b[0m\u001b[0;34m\u001b[0m\u001b[0m\n\u001b[0m\u001b[1;32m     85\u001b[0m     \u001b[0mtype_true\u001b[0m \u001b[0;34m=\u001b[0m \u001b[0mtype_of_target\u001b[0m\u001b[0;34m(\u001b[0m\u001b[0my_true\u001b[0m\u001b[0;34m)\u001b[0m\u001b[0;34m\u001b[0m\u001b[0;34m\u001b[0m\u001b[0m\n\u001b[1;32m     86\u001b[0m     \u001b[0mtype_pred\u001b[0m \u001b[0;34m=\u001b[0m \u001b[0mtype_of_target\u001b[0m\u001b[0;34m(\u001b[0m\u001b[0my_pred\u001b[0m\u001b[0;34m)\u001b[0m\u001b[0;34m\u001b[0m\u001b[0;34m\u001b[0m\u001b[0m\n",
            "\u001b[0;32m/usr/local/lib/python3.7/dist-packages/sklearn/utils/validation.py\u001b[0m in \u001b[0;36mcheck_consistent_length\u001b[0;34m(*arrays)\u001b[0m\n\u001b[1;32m    332\u001b[0m         raise ValueError(\n\u001b[1;32m    333\u001b[0m             \u001b[0;34m\"Found input variables with inconsistent numbers of samples: %r\"\u001b[0m\u001b[0;34m\u001b[0m\u001b[0;34m\u001b[0m\u001b[0m\n\u001b[0;32m--> 334\u001b[0;31m             \u001b[0;34m%\u001b[0m \u001b[0;34m[\u001b[0m\u001b[0mint\u001b[0m\u001b[0;34m(\u001b[0m\u001b[0ml\u001b[0m\u001b[0;34m)\u001b[0m \u001b[0;32mfor\u001b[0m \u001b[0ml\u001b[0m \u001b[0;32min\u001b[0m \u001b[0mlengths\u001b[0m\u001b[0;34m]\u001b[0m\u001b[0;34m\u001b[0m\u001b[0;34m\u001b[0m\u001b[0m\n\u001b[0m\u001b[1;32m    335\u001b[0m         )\n\u001b[1;32m    336\u001b[0m \u001b[0;34m\u001b[0m\u001b[0m\n",
            "\u001b[0;31mValueError\u001b[0m: Found input variables with inconsistent numbers of samples: [1423, 143]"
          ]
        }
      ]
    },
    {
      "cell_type": "markdown",
      "source": [
        "## ROC curve and AUC score\n",
        "- ROC AUC score is high but it is overly optimistic given it replaces precision in precision-recall curve with False Positive Rate\n",
        "- With class imbalance in our dataset, the importance of True Negatives is exaggerated in ROC AUC curve"
      ],
      "metadata": {
        "id": "uIs83gpa4ecb"
      }
    },
    {
      "cell_type": "code",
      "source": [
        "fpr, tpr, thresholds = roc_curve(y_test, y_probs)\n",
        "plt.figure(figsize=(5, 5))\n",
        "plt.plot(fpr, tpr, linewidth = 2, label = f\"logistic regression\")\n",
        "plt.plot([0,1], [0,1], 'k:', label = \"AUC 0.5000 / random guess\")\n",
        "plt.xlim(0,1)\n",
        "plt.ylim(0,1)\n",
        "plt.title(f\"ROC AUC = {roc_auc_score(y_test, y_probs):0.4f}\")\n",
        "plt.xlabel(\"False Positive Rate\")\n",
        "plt.ylabel(\"True Positive Rate\")\n",
        "plt.legend()\n",
        "\n",
        "plt.show()"
      ],
      "metadata": {
        "colab": {
          "base_uri": "https://localhost:8080/",
          "height": 350
        },
        "id": "eH3DB2xZa38k",
        "outputId": "543c81d7-3bdf-4d5d-a453-93d2bcf8ca8d"
      },
      "execution_count": 121,
      "outputs": [
        {
          "output_type": "display_data",
          "data": {
            "text/plain": [
              "<Figure size 360x360 with 1 Axes>"
            ],
            "image/png": "[encoded data removed]"
          },
          "metadata": {
            "needs_background": "light"
          }
        }
      ]
    },
    {
      "cell_type": "markdown",
      "source": [
        "## Most probable champions in full dataset"
      ],
      "metadata": {
        "id": "c4fqLqQQdzy7"
      }
    },
    {
      "cell_type": "code",
      "source": [
        "train_set = pd.read_pickle(\"https://github.com/WillKWL/PublicData/blob/main/raw/nba_pre_all_star_vs_playoff_train_comprehensive_playerplusteam.pkl?raw=true\")"
      ],
      "metadata": {
        "id": "jrgdcaZ-gqZ9"
      },
      "execution_count": 126,
      "outputs": []
    },
    {
      "cell_type": "code",
      "source": [
        "full_set = pd.concat([train_set, test_set])"
      ],
      "metadata": {
        "id": "EM7hvjyDgx7Q"
      },
      "execution_count": 127,
      "outputs": []
    },
    {
      "cell_type": "code",
      "source": [
        "X_full = full_set.drop(columns = \"PLAYOFF_RANKING\").reset_index(drop = True).copy(deep = True)\n",
        "y_full = full_set[['PLAYOFF_RANKING']].copy()"
      ],
      "metadata": {
        "id": "LU3C0narg6YT"
      },
      "execution_count": 128,
      "outputs": []
    },
    {
      "cell_type": "code",
      "source": [
        "most_probable = full_set.iloc[best_model.predict_proba(X_full)[:,1].argsort()[::-1],][['PLAYER_NAME_P', 'TEAM_NAME_T','SEASON',\"PLAYOFF_RANKING\"]]\n",
        "most_probable['prob'] = sorted(best_model.predict_proba(X_full)[:,1], reverse=True)\n",
        "most_probable"
      ],
      "metadata": {
        "colab": {
          "base_uri": "https://localhost:8080/",
          "height": 424
        },
        "id": "6WX2GI7icKMW",
        "outputId": "2b010135-ac0a-453d-d37e-a7032d3959c0"
      },
      "execution_count": 130,
      "outputs": [
        {
          "output_type": "execute_result",
          "data": {
            "text/plain": [
              "             PLAYER_NAME_P            TEAM_NAME_T   SEASON PLAYOFF_RANKING  \\\n",
              "7341        Tiago Splitter      San Antonio Spurs  2013-14               1   \n",
              "7342            Tim Duncan      San Antonio Spurs  2013-14               1   \n",
              "8715         Stephen Curry  Golden State Warriors  2016-17               1   \n",
              "8713         Zaza Pachulia  Golden State Warriors  2016-17               1   \n",
              "3366         Nazr Mohammed      San Antonio Spurs  2004-05               1   \n",
              "...                    ...                    ...      ...             ...   \n",
              "9787       Larry Nance Jr.    Cleveland Cavaliers  2018-19               0   \n",
              "9698   Matthew Dellavedova    Cleveland Cavaliers  2018-19               0   \n",
              "10031           Cedi Osman    Cleveland Cavaliers  2018-19               0   \n",
              "9958         Collin Sexton    Cleveland Cavaliers  2018-19               0   \n",
              "9695          Nik Stauskas    Cleveland Cavaliers  2018-19               0   \n",
              "\n",
              "           prob  \n",
              "7341   0.994795  \n",
              "7342   0.994795  \n",
              "8715   0.994630  \n",
              "8713   0.994599  \n",
              "3366   0.994163  \n",
              "...         ...  \n",
              "9787   0.000248  \n",
              "9698   0.000247  \n",
              "10031  0.000245  \n",
              "9958   0.000245  \n",
              "9695   0.000244  \n",
              "\n",
              "[7124 rows x 5 columns]"
            ],
            "text/html": [
              "\n",
              "  <div id=\"df-a8f8fd59-24f7-4525-9bd2-1a45e6510a8b\">\n",
              "    <div class=\"colab-df-container\">\n",
              "      <div>\n",
              "<style scoped>\n",
              "    .dataframe tbody tr th:only-of-type {\n",
              "        vertical-align: middle;\n",
              "    }\n",
              "\n",
              "    .dataframe tbody tr th {\n",
              "        vertical-align: top;\n",
              "    }\n",
              "\n",
              "    .dataframe thead th {\n",
              "        text-align: right;\n",
              "    }\n",
              "</style>\n",
              "<table border=\"1\" class=\"dataframe\">\n",
              "  <thead>\n",
              "    <tr style=\"text-align: right;\">\n",
              "      <th></th>\n",
              "      <th>PLAYER_NAME_P</th>\n",
              "      <th>TEAM_NAME_T</th>\n",
              "      <th>SEASON</th>\n",
              "      <th>PLAYOFF_RANKING</th>\n",
              "      <th>prob</th>\n",
              "    </tr>\n",
              "  </thead>\n",
              "  <tbody>\n",
              "    <tr>\n",
              "      <th>7341</th>\n",
              "      <td>Tiago Splitter</td>\n",
              "      <td>San Antonio Spurs</td>\n",
              "      <td>2013-14</td>\n",
              "      <td>1</td>\n",
              "      <td>0.994795</td>\n",
              "    </tr>\n",
              "    <tr>\n",
              "      <th>7342</th>\n",
              "      <td>Tim Duncan</td>\n",
              "      <td>San Antonio Spurs</td>\n",
              "      <td>2013-14</td>\n",
              "      <td>1</td>\n",
              "      <td>0.994795</td>\n",
              "    </tr>\n",
              "    <tr>\n",
              "      <th>8715</th>\n",
              "      <td>Stephen Curry</td>\n",
              "      <td>Golden State Warriors</td>\n",
              "      <td>2016-17</td>\n",
              "      <td>1</td>\n",
              "      <td>0.994630</td>\n",
              "    </tr>\n",
              "    <tr>\n",
              "      <th>8713</th>\n",
              "      <td>Zaza Pachulia</td>\n",
              "      <td>Golden State Warriors</td>\n",
              "      <td>2016-17</td>\n",
              "      <td>1</td>\n",
              "      <td>0.994599</td>\n",
              "    </tr>\n",
              "    <tr>\n",
              "      <th>3366</th>\n",
              "      <td>Nazr Mohammed</td>\n",
              "      <td>San Antonio Spurs</td>\n",
              "      <td>2004-05</td>\n",
              "      <td>1</td>\n",
              "      <td>0.994163</td>\n",
              "    </tr>\n",
              "    <tr>\n",
              "      <th>...</th>\n",
              "      <td>...</td>\n",
              "      <td>...</td>\n",
              "      <td>...</td>\n",
              "      <td>...</td>\n",
              "      <td>...</td>\n",
              "    </tr>\n",
              "    <tr>\n",
              "      <th>9787</th>\n",
              "      <td>Larry Nance Jr.</td>\n",
              "      <td>Cleveland Cavaliers</td>\n",
              "      <td>2018-19</td>\n",
              "      <td>0</td>\n",
              "      <td>0.000248</td>\n",
              "    </tr>\n",
              "    <tr>\n",
              "      <th>9698</th>\n",
              "      <td>Matthew Dellavedova</td>\n",
              "      <td>Cleveland Cavaliers</td>\n",
              "      <td>2018-19</td>\n",
              "      <td>0</td>\n",
              "      <td>0.000247</td>\n",
              "    </tr>\n",
              "    <tr>\n",
              "      <th>10031</th>\n",
              "      <td>Cedi Osman</td>\n",
              "      <td>Cleveland Cavaliers</td>\n",
              "      <td>2018-19</td>\n",
              "      <td>0</td>\n",
              "      <td>0.000245</td>\n",
              "    </tr>\n",
              "    <tr>\n",
              "      <th>9958</th>\n",
              "      <td>Collin Sexton</td>\n",
              "      <td>Cleveland Cavaliers</td>\n",
              "      <td>2018-19</td>\n",
              "      <td>0</td>\n",
              "      <td>0.000245</td>\n",
              "    </tr>\n",
              "    <tr>\n",
              "      <th>9695</th>\n",
              "      <td>Nik Stauskas</td>\n",
              "      <td>Cleveland Cavaliers</td>\n",
              "      <td>2018-19</td>\n",
              "      <td>0</td>\n",
              "      <td>0.000244</td>\n",
              "    </tr>\n",
              "  </tbody>\n",
              "</table>\n",
              "<p>7124 rows × 5 columns</p>\n",
              "</div>\n",
              "      <button class=\"colab-df-convert\" onclick=\"convertToInteractive('df-a8f8fd59-24f7-4525-9bd2-1a45e6510a8b')\"\n",
              "              title=\"Convert this dataframe to an interactive table.\"\n",
              "              style=\"display:none;\">\n",
              "        \n",
              "  <svg xmlns=\"http://www.w3.org/2000/svg\" height=\"24px\"viewBox=\"0 0 24 24\"\n",
              "       width=\"24px\">\n",
              "    <path d=\"M0 0h24v24H0V0z\" fill=\"none\"/>\n",
              "    <path d=\"M18.56 5.44l.94 2.06.94-2.06 2.06-.94-2.06-.94-.94-2.06-.94 2.06-2.06.94zm-11 1L8.5 8.5l.94-2.06 2.06-.94-2.06-.94L8.5 2.5l-.94 2.06-2.06.94zm10 10l.94 2.06.94-2.06 2.06-.94-2.06-.94-.94-2.06-.94 2.06-2.06.94z\"/><path d=\"M17.41 7.96l-1.37-1.37c-.4-.4-.92-.59-1.43-.59-.52 0-1.04.2-1.43.59L10.3 9.45l-7.72 7.72c-.78.78-.78 2.05 0 2.83L4 21.41c.39.39.9.59 1.41.59.51 0 1.02-.2 1.41-.59l7.78-7.78 2.81-2.81c.8-.78.8-2.07 0-2.86zM5.41 20L4 18.59l7.72-7.72 1.47 1.35L5.41 20z\"/>\n",
              "  </svg>\n",
              "      </button>\n",
              "      \n",
              "  <style>\n",
              "    .colab-df-container {\n",
              "      display:flex;\n",
              "      flex-wrap:wrap;\n",
              "      gap: 12px;\n",
              "    }\n",
              "\n",
              "    .colab-df-convert {\n",
              "      background-color: #E8F0FE;\n",
              "      border: none;\n",
              "      border-radius: 50%;\n",
              "      cursor: pointer;\n",
              "      display: none;\n",
              "      fill: #1967D2;\n",
              "      height: 32px;\n",
              "      padding: 0 0 0 0;\n",
              "      width: 32px;\n",
              "    }\n",
              "\n",
              "    .colab-df-convert:hover {\n",
              "      background-color: #E2EBFA;\n",
              "      box-shadow: 0px 1px 2px rgba(60, 64, 67, 0.3), 0px 1px 3px 1px rgba(60, 64, 67, 0.15);\n",
              "      fill: #174EA6;\n",
              "    }\n",
              "\n",
              "    [theme=dark] .colab-df-convert {\n",
              "      background-color: #3B4455;\n",
              "      fill: #D2E3FC;\n",
              "    }\n",
              "\n",
              "    [theme=dark] .colab-df-convert:hover {\n",
              "      background-color: #434B5C;\n",
              "      box-shadow: 0px 1px 3px 1px rgba(0, 0, 0, 0.15);\n",
              "      filter: drop-shadow(0px 1px 2px rgba(0, 0, 0, 0.3));\n",
              "      fill: #FFFFFF;\n",
              "    }\n",
              "  </style>\n",
              "\n",
              "      <script>\n",
              "        const buttonEl =\n",
              "          document.querySelector('#df-a8f8fd59-24f7-4525-9bd2-1a45e6510a8b button.colab-df-convert');\n",
              "        buttonEl.style.display =\n",
              "          google.colab.kernel.accessAllowed ? 'block' : 'none';\n",
              "\n",
              "        async function convertToInteractive(key) {\n",
              "          const element = document.querySelector('#df-a8f8fd59-24f7-4525-9bd2-1a45e6510a8b');\n",
              "          const dataTable =\n",
              "            await google.colab.kernel.invokeFunction('convertToInteractive',\n",
              "                                                     [key], {});\n",
              "          if (!dataTable) return;\n",
              "\n",
              "          const docLinkHtml = 'Like what you see? Visit the ' +\n",
              "            '<a target=\"_blank\" href=https://colab.research.google.com/notebooks/data_table.ipynb>data table notebook</a>'\n",
              "            + ' to learn more about interactive tables.';\n",
              "          element.innerHTML = '';\n",
              "          dataTable['output_type'] = 'display_data';\n",
              "          await google.colab.output.renderOutput(dataTable, element);\n",
              "          const docLink = document.createElement('div');\n",
              "          docLink.innerHTML = docLinkHtml;\n",
              "          element.appendChild(docLink);\n",
              "        }\n",
              "      </script>\n",
              "    </div>\n",
              "  </div>\n",
              "  "
            ]
          },
          "metadata": {},
          "execution_count": 130
        }
      ]
    },
    {
      "cell_type": "code",
      "source": [],
      "metadata": {
        "id": "PZBIaBBk8M-V"
      },
      "execution_count": null,
      "outputs": []
    }
  ]
}