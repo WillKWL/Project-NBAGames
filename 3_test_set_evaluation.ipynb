{
  "nbformat": 4,
  "nbformat_minor": 0,
  "metadata": {
    "colab": {
      "provenance": [],
      "collapsed_sections": [],
      "toc_visible": true,
      "authorship_tag": "ABX9TyOWQlxgT/7gDcUNKa2o6J82",
      "include_colab_link": true
    },
    "kernelspec": {
      "name": "python3",
      "display_name": "Python 3"
    },
    "language_info": {
      "name": "python"
    }
  },
  "cells": [
    {
      "cell_type": "markdown",
      "metadata": {
        "id": "view-in-github",
        "colab_type": "text"
      },
      "source": [
        "<a href=\"https://colab.research.google.com/github/WillKWL/Project-NBASeason/blob/master/3_test_set_evaluation.ipynb\" target=\"_parent\"><img src=\"https://colab.research.google.com/assets/colab-badge.svg\" alt=\"Open In Colab\"/></a>"
      ]
    },
    {
      "cell_type": "markdown",
      "source": [
        "# Import libraries"
      ],
      "metadata": {
        "id": "sbeIbD6X4QHr"
      }
    },
    {
      "cell_type": "code",
      "source": [
        "from google.colab import drive, files\n",
        "import os\n",
        "from joblib import load\n",
        "\n",
        "import pandas as pd\n",
        "import numpy as np\n",
        "pd.set_option(\"display.max_rows\", 10)\n",
        "pd.set_option(\"display.max_columns\", None)\n",
        "import matplotlib.pyplot as plt\n",
        "plt.rcParams[\"figure.figsize\"] = [20, 5]\n",
        "import re\n",
        "import copy\n",
        "\n",
        "from sklearn.base import BaseEstimator, TransformerMixin\n",
        "from sklearn.compose import make_column_selector, ColumnTransformer\n",
        "from sklearn.cluster import KMeans\n",
        "from sklearn.metrics import silhouette_score, roc_auc_score, roc_curve\n",
        "from sklearn.model_selection import cross_val_score\n",
        "from sklearn.pipeline import make_pipeline\n",
        "from sklearn.preprocessing import QuantileTransformer"
      ],
      "metadata": {
        "id": "5Laqo3mJ_YgQ"
      },
      "execution_count": 1,
      "outputs": []
    },
    {
      "cell_type": "code",
      "execution_count": 2,
      "metadata": {
        "colab": {
          "base_uri": "https://localhost:8080/"
        },
        "id": "spNMFq2z_HI4",
        "outputId": "1d8242a6-d5eb-4537-f8e7-d205d413d409"
      },
      "outputs": [
        {
          "output_type": "stream",
          "name": "stdout",
          "text": [
            "Mounted at /content/drive\n"
          ]
        }
      ],
      "source": [
        "drive.mount('/content/drive')\n",
        "os.chdir('/content/drive/MyDrive/Colab Notebooks')"
      ]
    },
    {
      "cell_type": "markdown",
      "source": [
        "# Load environment\n",
        "- load the following to evaluate model performance on test set:\n",
        "  - custom clases,\n",
        "  - functions, \n",
        "  - models dumped after hyperparameter tuning ,\n",
        "  - test set"
      ],
      "metadata": {
        "id": "wRpmirAb4-Y3"
      }
    },
    {
      "cell_type": "markdown",
      "source": [
        "## Custom classes and functions\n",
        "- data preparation pipeline before fitting estimator"
      ],
      "metadata": {
        "id": "ELaNNKmG4TbB"
      }
    },
    {
      "cell_type": "code",
      "source": [
        "# create a custom transformer to perform numerical operations on columns \n",
        "# FunctionTransformer cannot be used in pipeline since it does not return the whole dataframe + the new columns\n",
        "class NewColumn(BaseEstimator, TransformerMixin):\n",
        "  def __init__(self):\n",
        "    pass\n",
        "  \n",
        "  def fit(self, X, y = None):\n",
        "    return self\n",
        "  \n",
        "  def transform(self, X):\n",
        "    # 2 Point Field Goals Attempted = All Field Goals Attempted - 3 Point Field Goals Attempted\n",
        "    output = copy.deepcopy(X)\n",
        "    output['FG2A'] = output['FGA'] - output['FG3A']\n",
        "    # 2 Point Field Goals Made\n",
        "    output['FG2M'] = output['FGM'] - output['FG3M']\n",
        "    # Percentage of 2 Point Field Goals Made\n",
        "    output['FG2_PCT'] = output['FG2M'] / output['FG2A']\n",
        "    # Ratio of 2 Point Field Goals Attempted to 3 Point Field Goals Attempted\n",
        "    output['FG2_FG3'] = output['FG2A'] / output['FG3A']\n",
        "    self.output_names = output.columns\n",
        "    return output\n",
        "  \n",
        "  def get_feature_names_out(self, names = None):\n",
        "    return self.output_names\n",
        "\n",
        "# create a custom transformer to fix PF\n",
        "class FixPF(BaseEstimator, TransformerMixin):\n",
        "  def __init__(self, col_drop, col_replace):\n",
        "    self.col_drop = col_drop\n",
        "    self.col_replace = col_replace\n",
        "  \n",
        "  def fit(self, X, y = None):\n",
        "    return self\n",
        "  \n",
        "  def transform(self, X):\n",
        "    output = copy.deepcopy(X)\n",
        "    output[[self.col_drop]] = output[[self.col_replace]]\n",
        "    self.output_names = output.columns\n",
        "    return output\n",
        "  \n",
        "  def get_feature_names_out(self, names = None):\n",
        "    return self.output_names\n",
        "  \n",
        "# create a custom transformer to drop columns\n",
        "class DropCols(BaseEstimator, TransformerMixin):\n",
        "  def __init__(self, cols_drop):\n",
        "    self.cols_drop = cols_drop\n",
        "  \n",
        "  def fit(self, X, y = None):\n",
        "    return self\n",
        "  \n",
        "  def transform(self, X):\n",
        "    output = copy.deepcopy(X)\n",
        "    output = output.loc[:, [x not in self.cols_drop for x in output.columns]]\n",
        "    self.output_names = output.columns\n",
        "    return output\n",
        "  \n",
        "  def get_feature_names_out(self, names = None):\n",
        "    return self.output_names\n",
        "\n",
        "# create customer transformer to suppress n_quantile <= n_samples warning\n",
        "class MyQuantileTransformer(BaseEstimator, TransformerMixin):\n",
        "  def __init__(self, output_distribution, random_state):\n",
        "    self.output_distribution = output_distribution\n",
        "    self.random_state = random_state\n",
        "  \n",
        "  def fit(self, X, y = None):\n",
        "    self.QuantileTransformer = QuantileTransformer(n_quantiles=min(1000, X.shape[0]), # set this to suppress warning due to small dataset\n",
        "                                                   output_distribution = self.output_distribution,\n",
        "                                                   random_state = self.random_state).fit(X)\n",
        "    return self\n",
        "  \n",
        "  def transform(self, X):\n",
        "    output = copy.deepcopy(X)\n",
        "    try:\n",
        "      self.output_names = X.columns\n",
        "    except AttributeError: \n",
        "      pass\n",
        "    output = self.QuantileTransformer.transform(output)\n",
        "    return output\n",
        "  \n",
        "  def get_feature_names_out(self, names = None):\n",
        "    try: \n",
        "      return self.output_names\n",
        "    except AttributeError:\n",
        "      pass\n",
        "\n",
        "num_pipeline = make_pipeline(\n",
        "    # replace PFD with OPP_PF since both columns should be the same but we saw issues with PFD column\n",
        "    FixPF(\"PFD\", \"OPP_PF\"),\n",
        "    DropCols([\n",
        "        # drop irrelevant columns\n",
        "        \"GP\", \"MIN\", \n",
        "        # drop duplicate columns\n",
        "        \"OPP_PF\", \"OPP_PFD\", \n",
        "        # drop meaningless columns, e.g. if they win a lot in regular season, they will continue to win in playoff\n",
        "        # \"W\", \"L\", \"W_PCT\", \"PTS\", \"PLUS_MINUS\", \"OPP_PTS\"\n",
        "        ]),\n",
        "    # feature scaling + outlier removal by transforming features into quantiles\n",
        "      # some features have heavy tails, some look like normal so let's use transform them all to normal by quantile\n",
        "      # instead of taking log for every feature\n",
        "    MyQuantileTransformer(output_distribution=\"normal\", random_state=42)\n",
        ")\n",
        "\n",
        "data_cleaning = make_pipeline(\n",
        "    # create new columns for FG2A, FG2M, FG2_PCT, FG2_FG3\n",
        "    NewColumn(),\n",
        "    ColumnTransformer([\n",
        "        # fixing and scaling numeric columns\n",
        "        (\"num\", num_pipeline, make_column_selector(dtype_include=np.number)),\n",
        "        # keep the SEASON column for clustering\n",
        "        (\"season\", \"passthrough\", [\"SEASON\"])\n",
        "      ], \n",
        "      # drop remaining identifier columns such as TEAM_ID\n",
        "      remainder=\"drop\",\n",
        "      # drop column prefix\n",
        "      verbose_feature_names_out = False, \n",
        "    )\n",
        ")\n",
        "\n",
        "\n",
        "# create a custom transformer to cluster nba seasons into era\n",
        "class SeasonSimilarity(BaseEstimator, TransformerMixin):\n",
        "  def __init__(self, n_clusters = 3, random_state = None):\n",
        "    self.n_clusters = n_clusters\n",
        "    self.random_state = random_state\n",
        "  \n",
        "  def fit(self, X, y = None, sample_weight = None, plot_silh = False):\n",
        "    # pass the df into data_cleaning pipeline to scale features\n",
        "    X = pd.DataFrame(data_cleaning.fit_transform(X),\n",
        "                     columns = data_cleaning.get_feature_names_out())\n",
        "    # group by season to get league average\n",
        "    X_season = X.groupby(\"SEASON\").mean().sort_index().dropna(axis=0) # dropna as GridSearchCV will create NA for those seasons not included in CV folds\n",
        "    self.feature_names_in_ = X.columns.values\n",
        "    self.index_names = X_season.sort_index().index.values\n",
        "    \n",
        "    # test performance with silhouette score (distance from one's center and from other centers) from 2 to 10 clusters\n",
        "    # don't consider tuning k as hyperparameter because silhouette score is more intuitive\n",
        "    # e.g. clustering based on records from 1996 to 2022 (full range) vs clustering based on records from 2010 to 2022 (1st fold)\n",
        "    k_range = np.arange(2,11,1)\n",
        "    silh_scores = []\n",
        "    for k in range(2,11):\n",
        "      self.n_clusters = k\n",
        "      self.kmeans_ = KMeans(self.n_clusters, random_state=self.random_state)\n",
        "      self.kmeans_.fit(X_season, sample_weight=sample_weight)\n",
        "      silh_scores.append(silhouette_score(X_season, self.kmeans_.labels_))\n",
        "    \n",
        "    max_k = k_range[np.argmax(silh_scores)]\n",
        "    max_silh = max(silh_scores)\n",
        "    if plot_silh:\n",
        "      plt.plot(k_range, silh_scores)\n",
        "      plt.xlabel(\"Number of clusters\")\n",
        "      plt.ylabel(\"Silhouette score\")\n",
        "      plt.title(f\"optimal no. of cluster = {max_k}, silhouette score = {max_silh:0.4f}\")\n",
        "      plt.show()\n",
        "    \n",
        "    self.n_clusters = max_k\n",
        "    self.kmeans_ = KMeans(self.n_clusters, random_state=self.random_state)\n",
        "    self.kmeans_.fit(X_season, sample_weight=sample_weight)\n",
        "    return self\n",
        "  \n",
        "  def transform(self, X):\n",
        "    # pass the df into data_cleaning pipeline to scale features before clustering\n",
        "    X = pd.DataFrame(data_cleaning.fit_transform(X),\n",
        "                     columns = data_cleaning.get_feature_names_out())\n",
        "    \n",
        "    X_season = X.groupby(\"SEASON\").mean().sort_index()\n",
        "    # soft clustering for n clusters + quantile transform = normalized cluster distance\n",
        "    X_clusterdist = MyQuantileTransformer(output_distribution=\"normal\", random_state=42).fit_transform(self.kmeans_.transform(X_season))\n",
        "    # X_clusterdist = self.kmeans_.transform(X_season)\n",
        "    X_cluster = pd.DataFrame(X_clusterdist, index = X_season.index, columns=[f\"ERA_{i}\" for i in range(self.n_clusters)]).reset_index()\n",
        "    output = X.merge(X_cluster, how = \"inner\", on = \"SEASON\")\n",
        "    output.drop(columns = [\"SEASON\"], inplace = True)\n",
        "    output.index = X[[\"SEASON\"]]\n",
        "    self.output_features = output.columns.values\n",
        "    \n",
        "    return output\n",
        "  \n",
        "  def get_feature_names_out(self, names = None):\n",
        "    return self.output_features"
      ],
      "metadata": {
        "id": "xtO8809S_nrP"
      },
      "execution_count": 3,
      "outputs": []
    },
    {
      "cell_type": "markdown",
      "source": [
        "## Models after hyperparameter tuning"
      ],
      "metadata": {
        "id": "EnxbtUOO4YKi"
      }
    },
    {
      "cell_type": "code",
      "source": [
        "tuned_models = {}\n",
        "for file in [x for x in os.listdir() if '_tuned.joblib' in x]:\n",
        "  model = load(file)\n",
        "  tuned_models[model.best_estimator_.steps[1][0]] = model\n",
        "  print(model.best_estimator_.steps[1][0], \"loaded\")"
      ],
      "metadata": {
        "colab": {
          "base_uri": "https://localhost:8080/"
        },
        "id": "SuSNZuyL_em3",
        "outputId": "2ac2ec63-a2b4-458c-ac99-68b16c4ed4e4"
      },
      "execution_count": 4,
      "outputs": [
        {
          "output_type": "stream",
          "name": "stdout",
          "text": [
            "xgb loaded\n",
            "forest loaded\n",
            "ada loaded\n",
            "logistic loaded\n",
            "svc loaded\n"
          ]
        }
      ]
    },
    {
      "cell_type": "code",
      "source": [
        "# pull the CV AUC results from RandomizedSearchCV\n",
        "tuned_auc = []\n",
        "for clf_name, model in tuned_models.items():\n",
        "  # tuned_auc.append(cross_val_score(model.best_estimator_, season, y_test, cv = 10, scoring='roc_auc'))\n",
        "  cv_auc_colindex = [i for i, x in enumerate(model.cv_results_.keys()) if re.search('split\\w+_test_score', x) is not None]\n",
        "  tuned_auc.append(pd.DataFrame(model.cv_results_).iloc[model.best_index_,cv_auc_colindex].values)"
      ],
      "metadata": {
        "id": "0K3LcKAZ_kWL"
      },
      "execution_count": 5,
      "outputs": []
    },
    {
      "cell_type": "code",
      "source": [
        "# sort the models and plot the spread of CV AUC scores\n",
        "mean_tuned_auc = [np.mean(auc) for auc in tuned_auc]\n",
        "sorted_tuned_auc = [i for _, i in sorted(zip(mean_tuned_auc, tuned_auc), reverse = True)]\n",
        "sorted_tuned_clf = [i for _, i in sorted(zip(mean_tuned_auc, tuned_models.keys()), reverse = True)]"
      ],
      "metadata": {
        "id": "Glej3R5WAipy"
      },
      "execution_count": 6,
      "outputs": []
    },
    {
      "cell_type": "code",
      "source": [
        "plt.boxplot(sorted_tuned_auc, labels=sorted_tuned_clf)\n",
        "# add dots for CV AUC scores\n",
        "for i, auc in enumerate(sorted_tuned_auc):\n",
        "  plt.plot([i+1]*len(auc), auc, \".\")\n",
        "  plt.annotate(f\"mean = {np.mean(auc):0.4f}\\nsd = {np.std(auc):0.4f}\",(i+1, 0.7), ha = 'center', va = 'center')\n",
        "\n",
        "plt.plot([*range(1,len(sorted_tuned_auc)+1,1)], sorted(mean_tuned_auc, reverse=True), \n",
        "         \"ks\", label = 'mean CV AUC after tuning')\n",
        "plt.legend()\n",
        "plt.title(f\"Models sorted by 10-fold cross validation AUC score (after hyperparameter tuning)\")\n",
        "plt.xlabel(\"Models\")\n",
        "plt.ylim(0.5,1)\n",
        "plt.ylabel(\"CV AUC score\")\n",
        "plt.show()"
      ],
      "metadata": {
        "colab": {
          "base_uri": "https://localhost:8080/",
          "height": 295
        },
        "id": "xL7bLBVnAoo5",
        "outputId": "6c22dfdc-53e7-42ff-9502-628dc7d94965"
      },
      "execution_count": 7,
      "outputs": [
        {
          "output_type": "display_data",
          "data": {
            "text/plain": [
              "<Figure size 1440x360 with 1 Axes>"
            ],
            "image/png": "[encoded data removed]"
          },
          "metadata": {
            "needs_background": "light"
          }
        }
      ]
    },
    {
      "cell_type": "markdown",
      "source": [
        "## Pick best model\n",
        "- Based on 10-fold cross validation, logistic regression gave us the highest average ROC AUC score of 0.95\n",
        "  - Applying ensemble methods (e.g. voting, stacking, bagging, boosting) on top of these tuned models didn't help boost CV performance\n",
        "- Batch gradient descent vs Stochastic gradient descent\n",
        "  - Instead of batch GD, stochastic GD speeds up training time, which can become useful as our dataset gets larger and larger with more NBA seasons recorded since 1996\n",
        "  - Log loss is a convex function so there is no benefit of jumping out of \"local minumum\" in choosing stochastic GD \n",
        "  - Inherent randomness in being stochastic suggests there is room to tune learning rate and learning schedule"
      ],
      "metadata": {
        "id": "9pCM1Txz6vLM"
      }
    },
    {
      "cell_type": "code",
      "source": [
        "best_model = tuned_models['logistic'].best_estimator_"
      ],
      "metadata": {
        "id": "gQPKRV_5X6iE"
      },
      "execution_count": 8,
      "outputs": []
    },
    {
      "cell_type": "code",
      "source": [
        "best_model"
      ],
      "metadata": {
        "colab": {
          "base_uri": "https://localhost:8080/"
        },
        "id": "pd7ll5Glbntu",
        "outputId": "00393b6b-9e75-47d2-a406-f98a358fab2a"
      },
      "execution_count": 9,
      "outputs": [
        {
          "output_type": "execute_result",
          "data": {
            "text/plain": [
              "Pipeline(steps=[('preparation',\n",
              "                 Pipeline(steps=[('seasonsimilarity',\n",
              "                                  SeasonSimilarity(n_clusters=2,\n",
              "                                                   random_state=42)),\n",
              "                                 ('selector',\n",
              "                                  SelectFromModel(estimator=LogisticRegression(C=8.478490982264661,\n",
              "                                                                               penalty='l1',\n",
              "                                                                               random_state=42,\n",
              "                                                                               solver='liblinear')))])),\n",
              "                ('logistic',\n",
              "                 LogisticRegression(C=0.005499426480345607,\n",
              "                                    l1_ratio=0.015456616528867428,\n",
              "                                    max_iter=1000, penalty='elasticnet',\n",
              "                                    random_state=42, solver='saga'))])"
            ]
          },
          "metadata": {},
          "execution_count": 9
        }
      ]
    },
    {
      "cell_type": "markdown",
      "source": [
        "## Test set"
      ],
      "metadata": {
        "id": "Cm4Bd3vN415H"
      }
    },
    {
      "cell_type": "code",
      "source": [
        "test_set = pd.read_pickle(\"https://github.com/WillKWL/PublicData/blob/main/raw/nba_pre_all_star_vs_playoff_test.pkl?raw=true\")\n",
        "# make a copy and split X and y\n",
        "X_test = test_set.drop(columns = \"PLAYOFF_RANKING\").reset_index(drop = True).copy(deep = True)\n",
        "y_test = test_set[[\"PLAYOFF_RANKING\"]].values.reshape(-1,)"
      ],
      "metadata": {
        "id": "mrcgYfOFBPVl"
      },
      "execution_count": 10,
      "outputs": []
    },
    {
      "cell_type": "code",
      "source": [
        "X_test.shape"
      ],
      "metadata": {
        "colab": {
          "base_uri": "https://localhost:8080/"
        },
        "id": "8_ml_UDNeacY",
        "outputId": "dbbc5853-12f0-462a-b03d-a5654ac4c8f5"
      },
      "execution_count": 11,
      "outputs": [
        {
          "output_type": "execute_result",
          "data": {
            "text/plain": [
              "(143, 52)"
            ]
          },
          "metadata": {},
          "execution_count": 11
        }
      ]
    },
    {
      "cell_type": "markdown",
      "source": [
        "# Performance evaluation\n",
        "- should I use cross_val_predict here for evaluation in test set?"
      ],
      "metadata": {
        "id": "2jvrjqMi5apZ"
      }
    },
    {
      "cell_type": "markdown",
      "source": [
        "## ROC curve and AUC score\n",
        "- 10-fold cross validation on train set gives ROC AUC scores:\n",
        "  - min = 0.7364\n",
        "  - mean = 0.9491 (sd = 0.0734)\n",
        "  - max = 1.0000\n",
        "- ROC AUC score on test set = 0.8826\n",
        "  - Around 1 SD below the mean ROC AUC on train set\n",
        "  - Within expectation as its hyperparameters are tuned on cross validation of the train set\n",
        "  - Interpretation\n",
        "    - If we use the model to rank all the records in train set by the predicted probability of winning a championship and measure whether each pair is concordant or discordant, \n",
        "    - 88% of the pairs are concordant"
      ],
      "metadata": {
        "id": "uIs83gpa4ecb"
      }
    },
    {
      "cell_type": "code",
      "source": [
        "# plot CV AUC scores on train set\n",
        "best_CV_AUC = sorted_tuned_auc[sorted_tuned_clf.index(best_model.steps[1][0])]\n",
        "plt.boxplot(best_CV_AUC, labels = [\"\"], vert=False)\n",
        "plt.plot(best_CV_AUC, [1]*len(best_CV_AUC), \".\", label='CV AUC in train set')\n",
        "plt.annotate(f\"train set CV AUC\\n\" + \n",
        "             f\"mean = {np.mean(best_CV_AUC):0.4f}\\n\" + \n",
        "             f\"sd = {np.std(auc):0.4f}\\n\" + \n",
        "             f\"min = {np.min(auc):0.4f}\\n\" + \n",
        "             f\"max = {np.max(auc):0.4f}\",\n",
        "             (np.median(best_CV_AUC), 0.8), \n",
        "              ha = 'center', va = 'top')\n",
        "plt.plot(np.mean(best_CV_AUC), [1], \"ks\", label = 'mean CV AUC in train set')\n",
        "\n",
        "# compare with AUC score on test set\n",
        "test_AUC = roc_auc_score(y_test, best_model.predict_proba(X_test)[:,1])\n",
        "plt.plot(test_AUC, [1], \"rs\", label = 'AUC in test set')\n",
        "plt.annotate(f\"test set AUC= {test_AUC:0.4f}\",(test_AUC, 0.8), \n",
        "              ha = 'center', va = 'top')\n",
        "\n",
        "plt.legend()\n",
        "plt.title(f\"Model performance evaluation on test set (vs train set)\")\n",
        "plt.xlabel(\"ROC AUC score\")\n",
        "# plt.xlim(0.5,1)\n",
        "plt.ylabel(\"\")\n",
        "plt.yticks([])\n",
        "plt.show()"
      ],
      "metadata": {
        "colab": {
          "base_uri": "https://localhost:8080/",
          "height": 303
        },
        "id": "048FcwUejq0U",
        "outputId": "fe9d46f5-46e4-43d1-cf33-b6674fde279b"
      },
      "execution_count": 12,
      "outputs": [
        {
          "output_type": "display_data",
          "data": {
            "text/plain": [
              "<Figure size 1440x360 with 1 Axes>"
            ],
            "image/png": "[encoded data removed]"
          },
          "metadata": {
            "needs_background": "light"
          }
        }
      ]
    },
    {
      "cell_type": "code",
      "source": [
        "fpr, tpr, thresholds = roc_curve(y_test, best_model.predict_proba(X_test)[:,1])\n",
        "plt.figure(figsize=(5, 5))\n",
        "plt.plot(fpr, tpr, linewidth = 2, label = f\"logistic regression\")\n",
        "plt.plot([0,1], [0,1], 'k:', label = \"AUC 0.5000 / random guess\")\n",
        "plt.xlim(0,1)\n",
        "plt.ylim(0,1)\n",
        "plt.title(f\"ROC AUC = {roc_auc_score(y_test, best_model.predict_proba(X_test)[:,1]):0.4f}\")\n",
        "plt.xlabel(\"False Positive Rate\")\n",
        "plt.ylabel(\"True Positive Rate\")\n",
        "plt.legend()\n",
        "\n",
        "plt.show()"
      ],
      "metadata": {
        "colab": {
          "base_uri": "https://localhost:8080/",
          "height": 350
        },
        "id": "eH3DB2xZa38k",
        "outputId": "da588f4f-facf-4dae-dd13-65f424e6a77e"
      },
      "execution_count": 167,
      "outputs": [
        {
          "output_type": "display_data",
          "data": {
            "text/plain": [
              "<Figure size 360x360 with 1 Axes>"
            ],
            "image/png": "[encoded data removed]"
          },
          "metadata": {
            "needs_background": "light"
          }
        }
      ]
    },
    {
      "cell_type": "markdown",
      "source": [
        "## Lift and gain chart\n",
        "- focusing on first 2 deciles (top 20%)\n",
        "- gain chart: our model identifies 80% of the NBA champions\n",
        "- lift chart: our model achieves 4x lift vs a random guess"
      ],
      "metadata": {
        "id": "-dEsBlxN4lfq"
      }
    },
    {
      "cell_type": "code",
      "source": [
        "temp_df = pd.DataFrame({\n",
        "    'y': y_test,\n",
        "    'prob': best_model.predict_proba(X_test)[:,1]\n",
        "})\n",
        "temp_df.sort_values('prob', ascending=False, inplace=True)\n",
        "temp_df['decile'] = pd.qcut(temp_df['prob'],10,labels=[i for i in np.arange(10,0,-1)])"
      ],
      "metadata": {
        "id": "dpaO3U9fEMJ2"
      },
      "execution_count": 75,
      "outputs": []
    },
    {
      "cell_type": "code",
      "source": [
        "lift_n_gain = temp_df.groupby('decile').agg({'y': ['sum']}).sort_index(ascending=False)\n",
        "lift_n_gain.columns = ['sum_of_positive_cases_identified']\n",
        "lift_n_gain['gain'] = lift_n_gain[['sum_of_positive_cases_identified']].apply(lambda x: x.cumsum() / x.sum())\n",
        "lift_n_gain['lift'] = lift_n_gain['gain'] / (lift_n_gain.index.values.astype(int) / 10)"
      ],
      "metadata": {
        "id": "RHtp38L2E2sA"
      },
      "execution_count": 112,
      "outputs": []
    },
    {
      "cell_type": "code",
      "source": [
        "lift_n_gain"
      ],
      "metadata": {
        "colab": {
          "base_uri": "https://localhost:8080/",
          "height": 394
        },
        "id": "lh-5iAbYNHHX",
        "outputId": "55e074e9-cd47-4dbd-c182-8a69db60917d"
      },
      "execution_count": 152,
      "outputs": [
        {
          "output_type": "execute_result",
          "data": {
            "text/plain": [
              "        sum_of_positive_cases_identified  gain      lift\n",
              "decile                                                  \n",
              "1                                      2   0.4  4.000000\n",
              "2                                      2   0.8  4.000000\n",
              "3                                      0   0.8  2.666667\n",
              "4                                      1   1.0  2.500000\n",
              "5                                      0   1.0  2.000000\n",
              "6                                      0   1.0  1.666667\n",
              "7                                      0   1.0  1.428571\n",
              "8                                      0   1.0  1.250000\n",
              "9                                      0   1.0  1.111111\n",
              "10                                     0   1.0  1.000000"
            ],
            "text/html": [
              "\n",
              "  <div id=\"df-3bef03c4-a7e8-47ce-b8ce-2b4b4d16ba45\">\n",
              "    <div class=\"colab-df-container\">\n",
              "      <div>\n",
              "<style scoped>\n",
              "    .dataframe tbody tr th:only-of-type {\n",
              "        vertical-align: middle;\n",
              "    }\n",
              "\n",
              "    .dataframe tbody tr th {\n",
              "        vertical-align: top;\n",
              "    }\n",
              "\n",
              "    .dataframe thead th {\n",
              "        text-align: right;\n",
              "    }\n",
              "</style>\n",
              "<table border=\"1\" class=\"dataframe\">\n",
              "  <thead>\n",
              "    <tr style=\"text-align: right;\">\n",
              "      <th></th>\n",
              "      <th>sum_of_positive_cases_identified</th>\n",
              "      <th>gain</th>\n",
              "      <th>lift</th>\n",
              "    </tr>\n",
              "    <tr>\n",
              "      <th>decile</th>\n",
              "      <th></th>\n",
              "      <th></th>\n",
              "      <th></th>\n",
              "    </tr>\n",
              "  </thead>\n",
              "  <tbody>\n",
              "    <tr>\n",
              "      <th>1</th>\n",
              "      <td>2</td>\n",
              "      <td>0.4</td>\n",
              "      <td>4.000000</td>\n",
              "    </tr>\n",
              "    <tr>\n",
              "      <th>2</th>\n",
              "      <td>2</td>\n",
              "      <td>0.8</td>\n",
              "      <td>4.000000</td>\n",
              "    </tr>\n",
              "    <tr>\n",
              "      <th>3</th>\n",
              "      <td>0</td>\n",
              "      <td>0.8</td>\n",
              "      <td>2.666667</td>\n",
              "    </tr>\n",
              "    <tr>\n",
              "      <th>4</th>\n",
              "      <td>1</td>\n",
              "      <td>1.0</td>\n",
              "      <td>2.500000</td>\n",
              "    </tr>\n",
              "    <tr>\n",
              "      <th>5</th>\n",
              "      <td>0</td>\n",
              "      <td>1.0</td>\n",
              "      <td>2.000000</td>\n",
              "    </tr>\n",
              "    <tr>\n",
              "      <th>6</th>\n",
              "      <td>0</td>\n",
              "      <td>1.0</td>\n",
              "      <td>1.666667</td>\n",
              "    </tr>\n",
              "    <tr>\n",
              "      <th>7</th>\n",
              "      <td>0</td>\n",
              "      <td>1.0</td>\n",
              "      <td>1.428571</td>\n",
              "    </tr>\n",
              "    <tr>\n",
              "      <th>8</th>\n",
              "      <td>0</td>\n",
              "      <td>1.0</td>\n",
              "      <td>1.250000</td>\n",
              "    </tr>\n",
              "    <tr>\n",
              "      <th>9</th>\n",
              "      <td>0</td>\n",
              "      <td>1.0</td>\n",
              "      <td>1.111111</td>\n",
              "    </tr>\n",
              "    <tr>\n",
              "      <th>10</th>\n",
              "      <td>0</td>\n",
              "      <td>1.0</td>\n",
              "      <td>1.000000</td>\n",
              "    </tr>\n",
              "  </tbody>\n",
              "</table>\n",
              "</div>\n",
              "      <button class=\"colab-df-convert\" onclick=\"convertToInteractive('df-3bef03c4-a7e8-47ce-b8ce-2b4b4d16ba45')\"\n",
              "              title=\"Convert this dataframe to an interactive table.\"\n",
              "              style=\"display:none;\">\n",
              "        \n",
              "  <svg xmlns=\"http://www.w3.org/2000/svg\" height=\"24px\"viewBox=\"0 0 24 24\"\n",
              "       width=\"24px\">\n",
              "    <path d=\"M0 0h24v24H0V0z\" fill=\"none\"/>\n",
              "    <path d=\"M18.56 5.44l.94 2.06.94-2.06 2.06-.94-2.06-.94-.94-2.06-.94 2.06-2.06.94zm-11 1L8.5 8.5l.94-2.06 2.06-.94-2.06-.94L8.5 2.5l-.94 2.06-2.06.94zm10 10l.94 2.06.94-2.06 2.06-.94-2.06-.94-.94-2.06-.94 2.06-2.06.94z\"/><path d=\"M17.41 7.96l-1.37-1.37c-.4-.4-.92-.59-1.43-.59-.52 0-1.04.2-1.43.59L10.3 9.45l-7.72 7.72c-.78.78-.78 2.05 0 2.83L4 21.41c.39.39.9.59 1.41.59.51 0 1.02-.2 1.41-.59l7.78-7.78 2.81-2.81c.8-.78.8-2.07 0-2.86zM5.41 20L4 18.59l7.72-7.72 1.47 1.35L5.41 20z\"/>\n",
              "  </svg>\n",
              "      </button>\n",
              "      \n",
              "  <style>\n",
              "    .colab-df-container {\n",
              "      display:flex;\n",
              "      flex-wrap:wrap;\n",
              "      gap: 12px;\n",
              "    }\n",
              "\n",
              "    .colab-df-convert {\n",
              "      background-color: #E8F0FE;\n",
              "      border: none;\n",
              "      border-radius: 50%;\n",
              "      cursor: pointer;\n",
              "      display: none;\n",
              "      fill: #1967D2;\n",
              "      height: 32px;\n",
              "      padding: 0 0 0 0;\n",
              "      width: 32px;\n",
              "    }\n",
              "\n",
              "    .colab-df-convert:hover {\n",
              "      background-color: #E2EBFA;\n",
              "      box-shadow: 0px 1px 2px rgba(60, 64, 67, 0.3), 0px 1px 3px 1px rgba(60, 64, 67, 0.15);\n",
              "      fill: #174EA6;\n",
              "    }\n",
              "\n",
              "    [theme=dark] .colab-df-convert {\n",
              "      background-color: #3B4455;\n",
              "      fill: #D2E3FC;\n",
              "    }\n",
              "\n",
              "    [theme=dark] .colab-df-convert:hover {\n",
              "      background-color: #434B5C;\n",
              "      box-shadow: 0px 1px 3px 1px rgba(0, 0, 0, 0.15);\n",
              "      filter: drop-shadow(0px 1px 2px rgba(0, 0, 0, 0.3));\n",
              "      fill: #FFFFFF;\n",
              "    }\n",
              "  </style>\n",
              "\n",
              "      <script>\n",
              "        const buttonEl =\n",
              "          document.querySelector('#df-3bef03c4-a7e8-47ce-b8ce-2b4b4d16ba45 button.colab-df-convert');\n",
              "        buttonEl.style.display =\n",
              "          google.colab.kernel.accessAllowed ? 'block' : 'none';\n",
              "\n",
              "        async function convertToInteractive(key) {\n",
              "          const element = document.querySelector('#df-3bef03c4-a7e8-47ce-b8ce-2b4b4d16ba45');\n",
              "          const dataTable =\n",
              "            await google.colab.kernel.invokeFunction('convertToInteractive',\n",
              "                                                     [key], {});\n",
              "          if (!dataTable) return;\n",
              "\n",
              "          const docLinkHtml = 'Like what you see? Visit the ' +\n",
              "            '<a target=\"_blank\" href=https://colab.research.google.com/notebooks/data_table.ipynb>data table notebook</a>'\n",
              "            + ' to learn more about interactive tables.';\n",
              "          element.innerHTML = '';\n",
              "          dataTable['output_type'] = 'display_data';\n",
              "          await google.colab.output.renderOutput(dataTable, element);\n",
              "          const docLink = document.createElement('div');\n",
              "          docLink.innerHTML = docLinkHtml;\n",
              "          element.appendChild(docLink);\n",
              "        }\n",
              "      </script>\n",
              "    </div>\n",
              "  </div>\n",
              "  "
            ]
          },
          "metadata": {},
          "execution_count": 152
        }
      ]
    },
    {
      "cell_type": "code",
      "source": [
        "fig, axes = plt.subplots(1,2)\n",
        "lift_n_gain['gain'].plot(kind='line', ax=axes[0], marker='o')\n",
        "lift_n_gain['lift'].plot(kind='line', ax=axes[1], marker='o')\n",
        "axes[0].set_title('Gain chart')\n",
        "axes[1].set_title('Lift chart')\n",
        "plt.show()"
      ],
      "metadata": {
        "colab": {
          "base_uri": "https://localhost:8080/",
          "height": 298
        },
        "id": "_yHyMZz6JDp4",
        "outputId": "7def44b2-1d2b-4634-bc80-ab979b4ad337"
      },
      "execution_count": 166,
      "outputs": [
        {
          "output_type": "display_data",
          "data": {
            "text/plain": [
              "<Figure size 1440x360 with 2 Axes>"
            ],
            "image/png": "[encoded data removed]"
          },
          "metadata": {
            "needs_background": "light"
          }
        }
      ]
    },
    {
      "cell_type": "markdown",
      "source": [
        "## Coefficients\n",
        "- Before any manipulation, the data set contains 52 features\n",
        "- After feature selection and other data cleaning procedures, there are 34 features remaining\n",
        "- Finally, after fitting logistic regression with regularization, we can see that\n",
        "  - significant variables: \n",
        "    - PLUS_MINUS (the average number of points a team has scored in excess of the number of points lost to the opponent in a game within the regular season)\n",
        "    - W / L / W_PCT (the number (or %) of games a team has won/lost in the regular season)\n",
        "      - surprisingly, applying elasticnet (L1 + L2 regularization) didn't help to eliminate the significance of these correlated variables\n",
        "    - FG_PCT / FGM (field goal % and made)\n",
        "  - interesting variables:\n",
        "    - BLKA (blocks attempted) has a negative coefficient in predicting probability of winning a championship\n",
        "      - perhaps attempting to block your opponent too frequently doesn't mean you are playing good defence \n",
        "    - \n",
        "- Overall, we can say that if a team performs well in the regular season, it is reasonable to assume that it can win the championship"
      ],
      "metadata": {
        "id": "9QA4pyPXrIs0"
      }
    },
    {
      "cell_type": "code",
      "source": [
        "# original features\n",
        "features_in = X_test.columns.values # cannot use features_in here since data_cleaning pipeline is wrapped in SeasonSimilarity instead of part of data_preparation pipeline\n",
        "print(f\"Number of original features: \\n{len(X_test.columns.values)}\")\n",
        "print(features_in, \"\\n\")\n",
        "\n",
        "# sparse features after feature selection with L1 penalty in data_preparation pipeline\n",
        "features_out = best_model[:-1].get_feature_names_out() \n",
        "print(f\"Number of features after feature engineering, scaling and selection: \\n{len(features_out)}\")\n",
        "print(features_out, \"\\n\")\n",
        "\n",
        "# non-zero (signficant) features after regularization in fitting estimator\n",
        "coef = best_model.steps[1][1].coef_[0]\n",
        "print(f\"Number of features after fitting estimator with regularization: \\n{np.count_nonzero(coef)}\")\n",
        "print(f\"features = {[features_out[loc] for loc in np.nonzero(coef)[0]]}\")\n",
        "print(f\"coefficient = {[np.around(coef[loc], decimals=4) for loc in np.nonzero(coef)[0]]}\")\n",
        "\n",
        "abs_coef = np.abs(coef)\n",
        "fig, ax = plt.subplots(1,1)\n",
        "for i, (_, coef, name) in enumerate(sorted(zip(abs_coef, coef, features_out), reverse=True)[:20]):\n",
        "  ax.bar(name, coef)\n",
        "for rect in ax.patches:\n",
        "    height = rect.get_height()\n",
        "    ax.annotate(f\"{height:0.4f}\",\n",
        "                xy=(rect.get_x() + rect.get_width() / 2, height/2),\n",
        "                xytext=(0, 0),  # 3 points vertical offset\n",
        "                textcoords=\"offset points\",\n",
        "                color = 'white',\n",
        "                ha='center', va='center')\n",
        "plt.title(\"Top 20 features\")\n",
        "plt.show()"
      ],
      "metadata": {
        "colab": {
          "base_uri": "https://localhost:8080/",
          "height": 701
        },
        "id": "T8KI2Y4irOQM",
        "outputId": "799065e8-56b3-4105-a29d-17e1d924ef58"
      },
      "execution_count": 14,
      "outputs": [
        {
          "output_type": "stream",
          "name": "stdout",
          "text": [
            "Number of original features: \n",
            "52\n",
            "['TEAM_ID' 'TEAM_NAME' 'GP' 'W' 'L' 'W_PCT' 'MIN' 'FGM' 'FGA' 'FG_PCT'\n",
            " 'FG3M' 'FG3A' 'FG3_PCT' 'FTM' 'FTA' 'FT_PCT' 'OREB' 'DREB' 'REB' 'AST'\n",
            " 'TOV' 'STL' 'BLK' 'BLKA' 'PF' 'PFD' 'PTS' 'PLUS_MINUS' 'CFID' 'CFPARAMS'\n",
            " 'OPP_FGM' 'OPP_FGA' 'OPP_FG_PCT' 'OPP_FG3M' 'OPP_FG3A' 'OPP_FG3_PCT'\n",
            " 'OPP_FTM' 'OPP_FTA' 'OPP_FT_PCT' 'OPP_OREB' 'OPP_DREB' 'OPP_REB'\n",
            " 'OPP_AST' 'OPP_TOV' 'OPP_STL' 'OPP_BLK' 'OPP_BLKA' 'OPP_PF' 'OPP_PFD'\n",
            " 'OPP_PTS' 'SEASON' 'UNIQUE_ID'] \n",
            "\n",
            "Number of features after feature engineering, scaling and selection: \n",
            "41\n",
            "['W' 'L' 'W_PCT' 'FGM' 'FGA' 'FG_PCT' 'FG3M' 'FG3_PCT' 'FT_PCT' 'OREB'\n",
            " 'DREB' 'REB' 'AST' 'TOV' 'BLK' 'BLKA' 'PF' 'PFD' 'PTS' 'PLUS_MINUS'\n",
            " 'OPP_FGA' 'OPP_FG_PCT' 'OPP_FG3M' 'OPP_FG3A' 'OPP_FG3_PCT' 'OPP_FTM'\n",
            " 'OPP_FTA' 'OPP_FT_PCT' 'OPP_OREB' 'OPP_DREB' 'OPP_REB' 'OPP_AST'\n",
            " 'OPP_TOV' 'OPP_STL' 'OPP_BLK' 'OPP_PTS' 'FG2A' 'FG2M' 'FG2_FG3' 'ERA_0'\n",
            " 'ERA_1'] \n",
            "\n",
            "Number of features after fitting estimator with regularization: \n",
            "28\n",
            "features = ['W', 'L', 'W_PCT', 'FGM', 'FG_PCT', 'FG3M', 'FG3_PCT', 'FT_PCT', 'DREB', 'REB', 'AST', 'TOV', 'BLK', 'BLKA', 'PF', 'PTS', 'PLUS_MINUS', 'OPP_FG_PCT', 'OPP_FG3M', 'OPP_FG3_PCT', 'OPP_FTM', 'OPP_FTA', 'OPP_DREB', 'OPP_REB', 'OPP_AST', 'OPP_BLK', 'OPP_PTS', 'FG2M']\n",
            "coefficient = [0.0688, -0.0838, 0.0866, 0.0644, 0.0701, 0.001, 0.0179, -0.028, 0.0347, 0.027, 0.0455, -0.005, 0.0236, -0.0465, -0.0132, 0.043, 0.093, -0.0555, -0.0117, -0.036, -0.0087, -0.0225, -0.0326, -0.0325, -0.045, -0.0465, -0.0446, 0.0199]\n"
          ]
        },
        {
          "output_type": "display_data",
          "data": {
            "text/plain": [
              "<Figure size 1440x360 with 1 Axes>"
            ],
            "image/png": "[encoded data removed]"
          },
          "metadata": {
            "needs_background": "light"
          }
        }
      ]
    },
    {
      "cell_type": "markdown",
      "source": [
        "## Precision and recall curve\n",
        "- As a team manager or as a fan, precision of the prediction matters more than recall\n",
        "- Issues even with an AUC of 0.88 on test set\n",
        "  - Setting cutoff threshold is difficult given the class imbalance in our data\n",
        "  - Given a small test set, you can set a threshold just below the highest predicted probability to reach 100% precision\n",
        "  - But going forward, can this threshold result in a consistently high precision?\n",
        "  - Histogram of predicted probabilities shows a long right tail with the peak at around 2.5%\n",
        "  - Most of the time you won't be more than 25% sure that your team can win the championship given your team's mid-season performance\n",
        "  - Would this change if I have a larger test set to try on? or is the inherent class imbalance in the data that makes it hard to have a high precision?"
      ],
      "metadata": {
        "id": "Z7fDDlK-4kTj"
      }
    },
    {
      "cell_type": "code",
      "source": [
        "fig, ax = plt.subplots(1,1)\n",
        "ax.hist(best_model.predict_proba(X_test)[:,1], bins = 20)\n",
        "for rect in ax.patches:\n",
        "    height = rect.get_height()\n",
        "    ax.annotate(f\"{height:0.0f}\",\n",
        "                xy=(rect.get_x() + rect.get_width() / 2, height/2),\n",
        "                xytext=(0, 0),  # 3 points vertical offset\n",
        "                textcoords=\"offset points\",\n",
        "                color = 'white',\n",
        "                ha='center', va='center')\n",
        "plt.show()"
      ],
      "metadata": {
        "colab": {
          "base_uri": "https://localhost:8080/",
          "height": 273
        },
        "id": "Zc8QAa-um9OE",
        "outputId": "c9a66db2-ebde-44aa-e57c-5ebc39944f1e"
      },
      "execution_count": 47,
      "outputs": [
        {
          "output_type": "display_data",
          "data": {
            "text/plain": [
              "<Figure size 1440x360 with 1 Axes>"
            ],
            "image/png": "[encoded data removed]"
          },
          "metadata": {
            "needs_background": "light"
          }
        }
      ]
    },
    {
      "cell_type": "code",
      "source": [
        "from sklearn.metrics import precision_recall_curve, PrecisionRecallDisplay\n",
        "precisions, recalls, thresholds = precision_recall_curve(y_test, best_model.predict_proba(X_test)[:,1])\n",
        "plt.plot(thresholds, precisions[:-1], 'b--o', label = \"Precision\", linewidth = 2)\n",
        "plt.plot(thresholds, recalls[:-1], \"g--o\", label = \"Recall\", linewidth = 2)\n",
        "# plt.axhline(0.9, c='k')\n",
        "plt.xlabel(\"Threshold\")\n",
        "plt.ylim(0,1)\n",
        "plt.legend()\n",
        "plt.show()"
      ],
      "metadata": {
        "colab": {
          "base_uri": "https://localhost:8080/",
          "height": 288
        },
        "id": "x14a7fGbhuCT",
        "outputId": "b62f4623-ef2d-4074-fd85-2b2c42002bfc"
      },
      "execution_count": 46,
      "outputs": [
        {
          "output_type": "display_data",
          "data": {
            "text/plain": [
              "<Figure size 1440x360 with 1 Axes>"
            ],
            "image/png": "[encoded data removed]"
          },
          "metadata": {
            "needs_background": "light"
          }
        }
      ]
    },
    {
      "cell_type": "code",
      "source": [
        "PrecisionRecallDisplay(precision=precisions, recall=recalls).plot()\n",
        "plt.xlim(0,1)\n",
        "plt.ylim(0,1)\n",
        "plt.show()"
      ],
      "metadata": {
        "id": "Ts4zC6Ip0L0z",
        "colab": {
          "base_uri": "https://localhost:8080/",
          "height": 283
        },
        "outputId": "028124cc-9e7d-43fd-c0f0-3bd01447ed41"
      },
      "execution_count": 17,
      "outputs": [
        {
          "output_type": "display_data",
          "data": {
            "text/plain": [
              "<Figure size 1440x360 with 1 Axes>"
            ],
            "image/png": "[encoded data removed]"
          },
          "metadata": {
            "needs_background": "light"
          }
        }
      ]
    },
    {
      "cell_type": "markdown",
      "source": [
        "## Confusion matrix"
      ],
      "metadata": {
        "id": "ENWkwJvq4jLE"
      }
    },
    {
      "cell_type": "code",
      "source": [
        "from sklearn.metrics import precision_score, recall_score, confusion_matrix, classification_report"
      ],
      "metadata": {
        "id": "2cH76rz-hMX-"
      },
      "execution_count": 37,
      "outputs": []
    },
    {
      "cell_type": "code",
      "source": [
        "# to achieve a precision of 80% or more\n",
        "precision_pct = 0.8"
      ],
      "metadata": {
        "id": "AWLiZNAyhLec"
      },
      "execution_count": 33,
      "outputs": []
    },
    {
      "cell_type": "code",
      "source": [
        "# due to class imbalance in a small test set, \n",
        "# the threshold intervals are so sparse that it becomes hard to achieve exactly 80%\n",
        "idx_for_chosen_precision = (precisions >= precision_pct).argmax()\n",
        "chosen_threshold = thresholds[idx_for_chosen_precision]\n",
        "y_predict = (best_model.predict_proba(X_test)[:,1] >= chosen_threshold)\n",
        "print(classification_report(y_test, y_predict))"
      ],
      "metadata": {
        "colab": {
          "base_uri": "https://localhost:8080/"
        },
        "id": "-SJL2bAGf6m2",
        "outputId": "bbb5b19b-1283-4468-ea08-6496e0359d74"
      },
      "execution_count": 40,
      "outputs": [
        {
          "output_type": "stream",
          "name": "stdout",
          "text": [
            "              precision    recall  f1-score   support\n",
            "\n",
            "           0       0.97      1.00      0.99       138\n",
            "           1       1.00      0.20      0.33         5\n",
            "\n",
            "    accuracy                           0.97       143\n",
            "   macro avg       0.99      0.60      0.66       143\n",
            "weighted avg       0.97      0.97      0.96       143\n",
            "\n"
          ]
        }
      ]
    },
    {
      "cell_type": "code",
      "source": [
        "# only 1 instance was predicted and correctly identified as positive (winning a championship)\n",
        "confusion_matrix(y_test, y_predict)"
      ],
      "metadata": {
        "colab": {
          "base_uri": "https://localhost:8080/"
        },
        "id": "wq0LsTsYsUNW",
        "outputId": "b8d3c053-c49f-45e9-9ee8-aae21b33abc5"
      },
      "execution_count": 35,
      "outputs": [
        {
          "output_type": "execute_result",
          "data": {
            "text/plain": [
              "array([[138,   0],\n",
              "       [  4,   1]])"
            ]
          },
          "metadata": {},
          "execution_count": 35
        }
      ]
    }
  ]
}